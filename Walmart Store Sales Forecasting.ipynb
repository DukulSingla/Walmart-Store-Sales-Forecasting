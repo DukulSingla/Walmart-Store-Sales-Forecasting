{
 "cells": [
  {
   "cell_type": "markdown",
   "metadata": {},
   "source": [
    "## Importing packages and data"
   ]
  },
  {
   "cell_type": "code",
   "execution_count": 1,
   "metadata": {},
   "outputs": [],
   "source": [
    "import numpy as np\n",
    "import pandas as pd\n",
    "import matplotlib.pyplot as plt\n",
    "import seaborn as sns\n",
    "\n",
    "import pandas_profiling\n",
    "import sklearn as sk\n",
    "import statsmodels as sm\n",
    "%matplotlib inline"
   ]
  },
  {
   "cell_type": "code",
   "execution_count": 2,
   "metadata": {},
   "outputs": [],
   "source": [
    "from sklearn.linear_model import LinearRegression\n",
    "import statsmodels.formula.api as smf\n",
    "from sklearn import metrics\n",
    "pd.set_option('mode.chained_assignment', None) # For SettingWithCopyWarning"
   ]
  },
  {
   "cell_type": "code",
   "execution_count": 3,
   "metadata": {},
   "outputs": [],
   "source": [
    "features = pd.read_csv('features.csv', parse_dates = ['Date'])\n",
    "stores = pd.read_csv('stores.csv')"
   ]
  },
  {
   "cell_type": "code",
   "execution_count": 4,
   "metadata": {},
   "outputs": [],
   "source": [
    "train = pd.read_csv('train.csv', parse_dates = ['Date'])\n",
    "test = pd.read_csv('test.csv',  parse_dates = ['Date'])"
   ]
  },
  {
   "cell_type": "code",
   "execution_count": 5,
   "metadata": {},
   "outputs": [],
   "source": [
    "train = pd.merge(train, features, on = ['Store', 'Date', 'IsHoliday'])\n",
    "train = pd.merge(train, stores, on = 'Store')"
   ]
  },
  {
   "cell_type": "code",
   "execution_count": 6,
   "metadata": {},
   "outputs": [
    {
     "data": {
      "text/html": [
       "<div>\n",
       "<style scoped>\n",
       "    .dataframe tbody tr th:only-of-type {\n",
       "        vertical-align: middle;\n",
       "    }\n",
       "\n",
       "    .dataframe tbody tr th {\n",
       "        vertical-align: top;\n",
       "    }\n",
       "\n",
       "    .dataframe thead th {\n",
       "        text-align: right;\n",
       "    }\n",
       "</style>\n",
       "<table border=\"1\" class=\"dataframe\">\n",
       "  <thead>\n",
       "    <tr style=\"text-align: right;\">\n",
       "      <th></th>\n",
       "      <th>Store</th>\n",
       "      <th>Dept</th>\n",
       "      <th>Date</th>\n",
       "      <th>Weekly_Sales</th>\n",
       "      <th>IsHoliday</th>\n",
       "      <th>Temperature</th>\n",
       "      <th>Fuel_Price</th>\n",
       "      <th>MarkDown1</th>\n",
       "      <th>MarkDown2</th>\n",
       "      <th>MarkDown3</th>\n",
       "      <th>MarkDown4</th>\n",
       "      <th>MarkDown5</th>\n",
       "      <th>CPI</th>\n",
       "      <th>Unemployment</th>\n",
       "      <th>Type</th>\n",
       "      <th>Size</th>\n",
       "    </tr>\n",
       "  </thead>\n",
       "  <tbody>\n",
       "    <tr>\n",
       "      <td>0</td>\n",
       "      <td>1</td>\n",
       "      <td>1</td>\n",
       "      <td>2010-02-05</td>\n",
       "      <td>24924.50</td>\n",
       "      <td>False</td>\n",
       "      <td>42.31</td>\n",
       "      <td>2.572</td>\n",
       "      <td>NaN</td>\n",
       "      <td>NaN</td>\n",
       "      <td>NaN</td>\n",
       "      <td>NaN</td>\n",
       "      <td>NaN</td>\n",
       "      <td>211.096358</td>\n",
       "      <td>8.106</td>\n",
       "      <td>A</td>\n",
       "      <td>151315</td>\n",
       "    </tr>\n",
       "    <tr>\n",
       "      <td>1</td>\n",
       "      <td>1</td>\n",
       "      <td>2</td>\n",
       "      <td>2010-02-05</td>\n",
       "      <td>50605.27</td>\n",
       "      <td>False</td>\n",
       "      <td>42.31</td>\n",
       "      <td>2.572</td>\n",
       "      <td>NaN</td>\n",
       "      <td>NaN</td>\n",
       "      <td>NaN</td>\n",
       "      <td>NaN</td>\n",
       "      <td>NaN</td>\n",
       "      <td>211.096358</td>\n",
       "      <td>8.106</td>\n",
       "      <td>A</td>\n",
       "      <td>151315</td>\n",
       "    </tr>\n",
       "  </tbody>\n",
       "</table>\n",
       "</div>"
      ],
      "text/plain": [
       "   Store  Dept       Date  Weekly_Sales  IsHoliday  Temperature  Fuel_Price  \\\n",
       "0      1     1 2010-02-05      24924.50      False        42.31       2.572   \n",
       "1      1     2 2010-02-05      50605.27      False        42.31       2.572   \n",
       "\n",
       "   MarkDown1  MarkDown2  MarkDown3  MarkDown4  MarkDown5         CPI  \\\n",
       "0        NaN        NaN        NaN        NaN        NaN  211.096358   \n",
       "1        NaN        NaN        NaN        NaN        NaN  211.096358   \n",
       "\n",
       "   Unemployment Type    Size  \n",
       "0         8.106    A  151315  \n",
       "1         8.106    A  151315  "
      ]
     },
     "execution_count": 6,
     "metadata": {},
     "output_type": "execute_result"
    }
   ],
   "source": [
    "train.head(2)"
   ]
  },
  {
   "cell_type": "code",
   "execution_count": 7,
   "metadata": {},
   "outputs": [],
   "source": [
    "test = pd.merge(test, features, on = ['Store', 'Date', 'IsHoliday'])\n",
    "test = pd.merge(test, stores, on = 'Store')"
   ]
  },
  {
   "cell_type": "code",
   "execution_count": 8,
   "metadata": {},
   "outputs": [
    {
     "data": {
      "text/html": [
       "<div>\n",
       "<style scoped>\n",
       "    .dataframe tbody tr th:only-of-type {\n",
       "        vertical-align: middle;\n",
       "    }\n",
       "\n",
       "    .dataframe tbody tr th {\n",
       "        vertical-align: top;\n",
       "    }\n",
       "\n",
       "    .dataframe thead th {\n",
       "        text-align: right;\n",
       "    }\n",
       "</style>\n",
       "<table border=\"1\" class=\"dataframe\">\n",
       "  <thead>\n",
       "    <tr style=\"text-align: right;\">\n",
       "      <th></th>\n",
       "      <th>Store</th>\n",
       "      <th>Dept</th>\n",
       "      <th>Date</th>\n",
       "      <th>Weekly_Sales</th>\n",
       "      <th>IsHoliday</th>\n",
       "      <th>Temperature</th>\n",
       "      <th>Fuel_Price</th>\n",
       "      <th>MarkDown1</th>\n",
       "      <th>MarkDown2</th>\n",
       "      <th>MarkDown3</th>\n",
       "      <th>MarkDown4</th>\n",
       "      <th>MarkDown5</th>\n",
       "      <th>CPI</th>\n",
       "      <th>Unemployment</th>\n",
       "      <th>Type</th>\n",
       "      <th>Size</th>\n",
       "    </tr>\n",
       "  </thead>\n",
       "  <tbody>\n",
       "    <tr>\n",
       "      <td>0</td>\n",
       "      <td>1</td>\n",
       "      <td>1</td>\n",
       "      <td>2010-02-05</td>\n",
       "      <td>24924.50</td>\n",
       "      <td>False</td>\n",
       "      <td>42.31</td>\n",
       "      <td>2.572</td>\n",
       "      <td>NaN</td>\n",
       "      <td>NaN</td>\n",
       "      <td>NaN</td>\n",
       "      <td>NaN</td>\n",
       "      <td>NaN</td>\n",
       "      <td>211.096358</td>\n",
       "      <td>8.106</td>\n",
       "      <td>A</td>\n",
       "      <td>151315</td>\n",
       "    </tr>\n",
       "    <tr>\n",
       "      <td>1</td>\n",
       "      <td>1</td>\n",
       "      <td>2</td>\n",
       "      <td>2010-02-05</td>\n",
       "      <td>50605.27</td>\n",
       "      <td>False</td>\n",
       "      <td>42.31</td>\n",
       "      <td>2.572</td>\n",
       "      <td>NaN</td>\n",
       "      <td>NaN</td>\n",
       "      <td>NaN</td>\n",
       "      <td>NaN</td>\n",
       "      <td>NaN</td>\n",
       "      <td>211.096358</td>\n",
       "      <td>8.106</td>\n",
       "      <td>A</td>\n",
       "      <td>151315</td>\n",
       "    </tr>\n",
       "  </tbody>\n",
       "</table>\n",
       "</div>"
      ],
      "text/plain": [
       "   Store  Dept       Date  Weekly_Sales  IsHoliday  Temperature  Fuel_Price  \\\n",
       "0      1     1 2010-02-05      24924.50      False        42.31       2.572   \n",
       "1      1     2 2010-02-05      50605.27      False        42.31       2.572   \n",
       "\n",
       "   MarkDown1  MarkDown2  MarkDown3  MarkDown4  MarkDown5         CPI  \\\n",
       "0        NaN        NaN        NaN        NaN        NaN  211.096358   \n",
       "1        NaN        NaN        NaN        NaN        NaN  211.096358   \n",
       "\n",
       "   Unemployment Type    Size  \n",
       "0         8.106    A  151315  \n",
       "1         8.106    A  151315  "
      ]
     },
     "execution_count": 8,
     "metadata": {},
     "output_type": "execute_result"
    }
   ],
   "source": [
    "train.head(2)"
   ]
  },
  {
   "cell_type": "markdown",
   "metadata": {},
   "source": [
    "#### converting data into weekly level"
   ]
  },
  {
   "cell_type": "code",
   "execution_count": 9,
   "metadata": {},
   "outputs": [],
   "source": [
    "days = [(x - train.Date[0]) for x in train.Date]\n",
    "train['Weeks'] = [i.days for i in [x/7 for x in days]]"
   ]
  },
  {
   "cell_type": "code",
   "execution_count": 10,
   "metadata": {},
   "outputs": [],
   "source": [
    "days = [(x - test.Date[0]) for x in test.Date]\n",
    "test['Weeks'] = [i.days for i in [x/7 for x in days]]"
   ]
  },
  {
   "cell_type": "code",
   "execution_count": 11,
   "metadata": {},
   "outputs": [
    {
     "data": {
      "text/plain": [
       "Store                    int64\n",
       "Dept                     int64\n",
       "Date            datetime64[ns]\n",
       "Weekly_Sales           float64\n",
       "IsHoliday                 bool\n",
       "Temperature            float64\n",
       "Fuel_Price             float64\n",
       "MarkDown1              float64\n",
       "MarkDown2              float64\n",
       "MarkDown3              float64\n",
       "MarkDown4              float64\n",
       "MarkDown5              float64\n",
       "CPI                    float64\n",
       "Unemployment           float64\n",
       "Type                    object\n",
       "Size                     int64\n",
       "Weeks                    int64\n",
       "dtype: object"
      ]
     },
     "execution_count": 11,
     "metadata": {},
     "output_type": "execute_result"
    }
   ],
   "source": [
    "train.dtypes"
   ]
  },
  {
   "cell_type": "code",
   "execution_count": 12,
   "metadata": {},
   "outputs": [
    {
     "name": "stdout",
     "output_type": "stream",
     "text": [
      "<class 'pandas.core.frame.DataFrame'>\n",
      "Int64Index: 421570 entries, 0 to 421569\n",
      "Data columns (total 17 columns):\n",
      "Store           421570 non-null int64\n",
      "Dept            421570 non-null int64\n",
      "Date            421570 non-null datetime64[ns]\n",
      "Weekly_Sales    421570 non-null float64\n",
      "IsHoliday       421570 non-null bool\n",
      "Temperature     421570 non-null float64\n",
      "Fuel_Price      421570 non-null float64\n",
      "MarkDown1       150681 non-null float64\n",
      "MarkDown2       111248 non-null float64\n",
      "MarkDown3       137091 non-null float64\n",
      "MarkDown4       134967 non-null float64\n",
      "MarkDown5       151432 non-null float64\n",
      "CPI             421570 non-null float64\n",
      "Unemployment    421570 non-null float64\n",
      "Type            421570 non-null object\n",
      "Size            421570 non-null int64\n",
      "Weeks           421570 non-null int64\n",
      "dtypes: bool(1), datetime64[ns](1), float64(10), int64(4), object(1)\n",
      "memory usage: 75.1+ MB\n"
     ]
    }
   ],
   "source": [
    "train.info()"
   ]
  },
  {
   "cell_type": "code",
   "execution_count": 13,
   "metadata": {},
   "outputs": [
    {
     "data": {
      "text/plain": [
       "Store                0\n",
       "Dept                 0\n",
       "Date                 0\n",
       "Weekly_Sales         0\n",
       "IsHoliday            0\n",
       "Temperature          0\n",
       "Fuel_Price           0\n",
       "MarkDown1       270889\n",
       "MarkDown2       310322\n",
       "MarkDown3       284479\n",
       "MarkDown4       286603\n",
       "MarkDown5       270138\n",
       "CPI                  0\n",
       "Unemployment         0\n",
       "Type                 0\n",
       "Size                 0\n",
       "Weeks                0\n",
       "dtype: int64"
      ]
     },
     "execution_count": 13,
     "metadata": {},
     "output_type": "execute_result"
    }
   ],
   "source": [
    "train.isna().sum()"
   ]
  },
  {
   "cell_type": "code",
   "execution_count": 14,
   "metadata": {},
   "outputs": [
    {
     "data": {
      "text/plain": [
       "Store               0\n",
       "Dept                0\n",
       "Date                0\n",
       "IsHoliday           0\n",
       "Temperature         0\n",
       "Fuel_Price          0\n",
       "MarkDown1         149\n",
       "MarkDown2       28627\n",
       "MarkDown3        9829\n",
       "MarkDown4       12888\n",
       "MarkDown5           0\n",
       "CPI             38162\n",
       "Unemployment    38162\n",
       "Type                0\n",
       "Size                0\n",
       "Weeks               0\n",
       "dtype: int64"
      ]
     },
     "execution_count": 14,
     "metadata": {},
     "output_type": "execute_result"
    }
   ],
   "source": [
    "test.isna().sum()"
   ]
  },
  {
   "cell_type": "markdown",
   "metadata": {},
   "source": [
    "#### Exporting pandas profiling output to html file"
   ]
  },
  {
   "cell_type": "code",
   "execution_count": 15,
   "metadata": {},
   "outputs": [],
   "source": [
    "report = pandas_profiling.ProfileReport(train)\n",
    "report.pd.to_file(output_file = 'pandas_profiling.html')"
   ]
  },
  {
   "cell_type": "markdown",
   "metadata": {},
   "source": [
    "#### Splitting Numeric and Categorical variables"
   ]
  },
  {
   "cell_type": "code",
   "execution_count": 16,
   "metadata": {},
   "outputs": [],
   "source": [
    "numeric_vars_name = [key for key in dict(train.dtypes) if dict(train.dtypes)[key] in ['int64', 'float64']]\n",
    "cat_vars_name = [key for key in dict(train.dtypes) if dict(train.dtypes)[key] in ['object', 'bool']]"
   ]
  },
  {
   "cell_type": "code",
   "execution_count": 17,
   "metadata": {},
   "outputs": [
    {
     "data": {
      "text/plain": [
       "['Store',\n",
       " 'Dept',\n",
       " 'Weekly_Sales',\n",
       " 'Temperature',\n",
       " 'Fuel_Price',\n",
       " 'MarkDown1',\n",
       " 'MarkDown2',\n",
       " 'MarkDown3',\n",
       " 'MarkDown4',\n",
       " 'MarkDown5',\n",
       " 'CPI',\n",
       " 'Unemployment',\n",
       " 'Size',\n",
       " 'Weeks']"
      ]
     },
     "execution_count": 17,
     "metadata": {},
     "output_type": "execute_result"
    }
   ],
   "source": [
    "numeric_vars_name"
   ]
  },
  {
   "cell_type": "code",
   "execution_count": 18,
   "metadata": {},
   "outputs": [
    {
     "data": {
      "text/plain": [
       "['IsHoliday', 'Type']"
      ]
     },
     "execution_count": 18,
     "metadata": {},
     "output_type": "execute_result"
    }
   ],
   "source": [
    "cat_vars_name"
   ]
  },
  {
   "cell_type": "code",
   "execution_count": 19,
   "metadata": {},
   "outputs": [],
   "source": [
    "train_num = train[numeric_vars_name]\n",
    "\n",
    "numeric_vars_name.remove('Weekly_Sales')\n",
    "test_num = test[numeric_vars_name]"
   ]
  },
  {
   "cell_type": "code",
   "execution_count": 20,
   "metadata": {},
   "outputs": [],
   "source": [
    "train_cat = train[cat_vars_name]\n",
    "test_cat = test[cat_vars_name]"
   ]
  },
  {
   "cell_type": "markdown",
   "metadata": {},
   "source": [
    "#### replace all negative and zero values with missing"
   ]
  },
  {
   "cell_type": "code",
   "execution_count": 21,
   "metadata": {},
   "outputs": [],
   "source": [
    "train_num[train_num <= 0] = np.nan\n",
    "test_num[test_num <= 0] = np.nan"
   ]
  },
  {
   "cell_type": "code",
   "execution_count": 22,
   "metadata": {},
   "outputs": [
    {
     "data": {
      "text/plain": [
       "Store                0\n",
       "Dept                 0\n",
       "Weekly_Sales      1358\n",
       "Temperature         69\n",
       "Fuel_Price           0\n",
       "MarkDown1       270889\n",
       "MarkDown2       311840\n",
       "MarkDown3       284803\n",
       "MarkDown4       286603\n",
       "MarkDown5       270138\n",
       "CPI                  0\n",
       "Unemployment         0\n",
       "Size                 0\n",
       "Weeks             2955\n",
       "dtype: int64"
      ]
     },
     "execution_count": 22,
     "metadata": {},
     "output_type": "execute_result"
    }
   ],
   "source": [
    "train_num.isna().sum()"
   ]
  },
  {
   "cell_type": "markdown",
   "metadata": {},
   "source": [
    "## Data Audit Report"
   ]
  },
  {
   "cell_type": "code",
   "execution_count": 23,
   "metadata": {},
   "outputs": [],
   "source": [
    "# Create Data audit Report for continuous variables\n",
    "def continuous_var_summary(x):\n",
    "    return pd.Series([x.count(), x.isnull().sum(), x.sum(), x.mean(), x.median(),  \n",
    "                      x.std(), x.var(), x.min(), x.quantile(0.01), x.quantile(0.05),\n",
    "                          x.quantile(0.10),x.quantile(0.25),x.quantile(0.50),x.quantile(0.75), \n",
    "                              x.quantile(0.90),x.quantile(0.95), x.quantile(0.99),x.max()], \n",
    "                  index = ['N', 'NMISS', 'SUM', 'MEAN','MEDIAN', 'STD', 'VAR', 'MIN', 'P1', \n",
    "                               'P5' ,'P10' ,'P25' ,'P50' ,'P75' ,'P90' ,'P95' ,'P99' ,'MAX'])"
   ]
  },
  {
   "cell_type": "code",
   "execution_count": 24,
   "metadata": {},
   "outputs": [],
   "source": [
    "# Create Data audit Report for categorical variables\n",
    "def categorical_var_summary(x):\n",
    "    Mode = x.value_counts().sort_values(ascending = False)[0:1].reset_index()\n",
    "    return pd.Series([x.count(), x.isnull().sum(), Mode.iloc[0, 0], Mode.iloc[0, 1], \n",
    "                          round(Mode.iloc[0, 1] * 100/x.count(), 2)], \n",
    "                  index = ['N', 'NMISS', 'MODE', 'FREQ', 'PERCENT'])"
   ]
  },
  {
   "cell_type": "code",
   "execution_count": 25,
   "metadata": {},
   "outputs": [
    {
     "data": {
      "text/html": [
       "<div>\n",
       "<style scoped>\n",
       "    .dataframe tbody tr th:only-of-type {\n",
       "        vertical-align: middle;\n",
       "    }\n",
       "\n",
       "    .dataframe tbody tr th {\n",
       "        vertical-align: top;\n",
       "    }\n",
       "\n",
       "    .dataframe thead th {\n",
       "        text-align: right;\n",
       "    }\n",
       "</style>\n",
       "<table border=\"1\" class=\"dataframe\">\n",
       "  <thead>\n",
       "    <tr style=\"text-align: right;\">\n",
       "      <th></th>\n",
       "      <th>N</th>\n",
       "      <th>NMISS</th>\n",
       "      <th>SUM</th>\n",
       "      <th>MEAN</th>\n",
       "      <th>MEDIAN</th>\n",
       "      <th>STD</th>\n",
       "      <th>VAR</th>\n",
       "      <th>MIN</th>\n",
       "      <th>P1</th>\n",
       "      <th>P5</th>\n",
       "      <th>P10</th>\n",
       "      <th>P25</th>\n",
       "      <th>P50</th>\n",
       "      <th>P75</th>\n",
       "      <th>P90</th>\n",
       "      <th>P95</th>\n",
       "      <th>P99</th>\n",
       "      <th>MAX</th>\n",
       "    </tr>\n",
       "  </thead>\n",
       "  <tbody>\n",
       "    <tr>\n",
       "      <td>Store</td>\n",
       "      <td>421570.0</td>\n",
       "      <td>0.0</td>\n",
       "      <td>9.359084e+06</td>\n",
       "      <td>22.200546</td>\n",
       "      <td>22.00000</td>\n",
       "      <td>12.785297</td>\n",
       "      <td>1.634638e+02</td>\n",
       "      <td>1.000</td>\n",
       "      <td>1.000000</td>\n",
       "      <td>3.000000</td>\n",
       "      <td>5.000000</td>\n",
       "      <td>11.000000</td>\n",
       "      <td>22.00000</td>\n",
       "      <td>33.000000</td>\n",
       "      <td>40.000000</td>\n",
       "      <td>43.000000</td>\n",
       "      <td>45.000000</td>\n",
       "      <td>45.000000</td>\n",
       "    </tr>\n",
       "    <tr>\n",
       "      <td>Dept</td>\n",
       "      <td>421570.0</td>\n",
       "      <td>0.0</td>\n",
       "      <td>1.865882e+07</td>\n",
       "      <td>44.260317</td>\n",
       "      <td>37.00000</td>\n",
       "      <td>30.492054</td>\n",
       "      <td>9.297654e+02</td>\n",
       "      <td>1.000</td>\n",
       "      <td>1.000000</td>\n",
       "      <td>4.000000</td>\n",
       "      <td>7.000000</td>\n",
       "      <td>18.000000</td>\n",
       "      <td>37.00000</td>\n",
       "      <td>74.000000</td>\n",
       "      <td>92.000000</td>\n",
       "      <td>95.000000</td>\n",
       "      <td>98.000000</td>\n",
       "      <td>99.000000</td>\n",
       "    </tr>\n",
       "    <tr>\n",
       "      <td>Weekly_Sales</td>\n",
       "      <td>420212.0</td>\n",
       "      <td>1358.0</td>\n",
       "      <td>6.737307e+09</td>\n",
       "      <td>16033.114591</td>\n",
       "      <td>7661.70000</td>\n",
       "      <td>22729.492116</td>\n",
       "      <td>5.166298e+08</td>\n",
       "      <td>0.010</td>\n",
       "      <td>7.440000</td>\n",
       "      <td>67.551000</td>\n",
       "      <td>311.186000</td>\n",
       "      <td>2120.130000</td>\n",
       "      <td>7661.70000</td>\n",
       "      <td>20271.265000</td>\n",
       "      <td>42922.748000</td>\n",
       "      <td>61275.522000</td>\n",
       "      <td>106566.351400</td>\n",
       "      <td>693099.360000</td>\n",
       "    </tr>\n",
       "    <tr>\n",
       "      <td>Temperature</td>\n",
       "      <td>421501.0</td>\n",
       "      <td>69.0</td>\n",
       "      <td>2.533231e+07</td>\n",
       "      <td>60.100233</td>\n",
       "      <td>62.09000</td>\n",
       "      <td>18.432294</td>\n",
       "      <td>3.397495e+02</td>\n",
       "      <td>5.540</td>\n",
       "      <td>18.360000</td>\n",
       "      <td>27.310000</td>\n",
       "      <td>33.990000</td>\n",
       "      <td>46.700000</td>\n",
       "      <td>62.09000</td>\n",
       "      <td>74.280000</td>\n",
       "      <td>83.580000</td>\n",
       "      <td>87.270000</td>\n",
       "      <td>92.810000</td>\n",
       "      <td>100.140000</td>\n",
       "    </tr>\n",
       "    <tr>\n",
       "      <td>Fuel_Price</td>\n",
       "      <td>421570.0</td>\n",
       "      <td>0.0</td>\n",
       "      <td>1.416908e+06</td>\n",
       "      <td>3.361027</td>\n",
       "      <td>3.45200</td>\n",
       "      <td>0.458515</td>\n",
       "      <td>2.102356e-01</td>\n",
       "      <td>2.472</td>\n",
       "      <td>2.565000</td>\n",
       "      <td>2.653000</td>\n",
       "      <td>2.720000</td>\n",
       "      <td>2.933000</td>\n",
       "      <td>3.45200</td>\n",
       "      <td>3.738000</td>\n",
       "      <td>3.917000</td>\n",
       "      <td>4.029000</td>\n",
       "      <td>4.202000</td>\n",
       "      <td>4.468000</td>\n",
       "    </tr>\n",
       "    <tr>\n",
       "      <td>MarkDown1</td>\n",
       "      <td>150681.0</td>\n",
       "      <td>270889.0</td>\n",
       "      <td>1.091898e+09</td>\n",
       "      <td>7246.420196</td>\n",
       "      <td>5347.45000</td>\n",
       "      <td>8291.221345</td>\n",
       "      <td>6.874435e+07</td>\n",
       "      <td>0.270</td>\n",
       "      <td>17.760000</td>\n",
       "      <td>149.190000</td>\n",
       "      <td>375.200000</td>\n",
       "      <td>2240.270000</td>\n",
       "      <td>5347.45000</td>\n",
       "      <td>9210.900000</td>\n",
       "      <td>15282.470000</td>\n",
       "      <td>21801.350000</td>\n",
       "      <td>41524.030000</td>\n",
       "      <td>88646.760000</td>\n",
       "    </tr>\n",
       "    <tr>\n",
       "      <td>MarkDown2</td>\n",
       "      <td>109730.0</td>\n",
       "      <td>311840.0</td>\n",
       "      <td>3.710112e+08</td>\n",
       "      <td>3381.128457</td>\n",
       "      <td>203.26000</td>\n",
       "      <td>9532.362243</td>\n",
       "      <td>9.086593e+07</td>\n",
       "      <td>0.020</td>\n",
       "      <td>0.300000</td>\n",
       "      <td>3.000000</td>\n",
       "      <td>7.910000</td>\n",
       "      <td>44.200000</td>\n",
       "      <td>203.26000</td>\n",
       "      <td>1991.380000</td>\n",
       "      <td>8716.860000</td>\n",
       "      <td>16590.750000</td>\n",
       "      <td>50366.600000</td>\n",
       "      <td>104519.540000</td>\n",
       "    </tr>\n",
       "    <tr>\n",
       "      <td>MarkDown3</td>\n",
       "      <td>136767.0</td>\n",
       "      <td>284803.0</td>\n",
       "      <td>1.973339e+08</td>\n",
       "      <td>1442.847588</td>\n",
       "      <td>24.73000</td>\n",
       "      <td>9634.212338</td>\n",
       "      <td>9.281805e+07</td>\n",
       "      <td>0.010</td>\n",
       "      <td>0.150000</td>\n",
       "      <td>0.700000</td>\n",
       "      <td>1.710000</td>\n",
       "      <td>5.160000</td>\n",
       "      <td>24.73000</td>\n",
       "      <td>104.140000</td>\n",
       "      <td>400.090000</td>\n",
       "      <td>1059.900000</td>\n",
       "      <td>63143.290000</td>\n",
       "      <td>141630.610000</td>\n",
       "    </tr>\n",
       "    <tr>\n",
       "      <td>MarkDown4</td>\n",
       "      <td>134967.0</td>\n",
       "      <td>286603.0</td>\n",
       "      <td>4.566161e+08</td>\n",
       "      <td>3383.168256</td>\n",
       "      <td>1481.31000</td>\n",
       "      <td>6292.384031</td>\n",
       "      <td>3.959410e+07</td>\n",
       "      <td>0.220</td>\n",
       "      <td>3.970000</td>\n",
       "      <td>28.760000</td>\n",
       "      <td>108.710000</td>\n",
       "      <td>504.220000</td>\n",
       "      <td>1481.31000</td>\n",
       "      <td>3595.040000</td>\n",
       "      <td>7871.420000</td>\n",
       "      <td>12645.960000</td>\n",
       "      <td>35785.260000</td>\n",
       "      <td>67474.850000</td>\n",
       "    </tr>\n",
       "    <tr>\n",
       "      <td>MarkDown5</td>\n",
       "      <td>151432.0</td>\n",
       "      <td>270138.0</td>\n",
       "      <td>7.009750e+08</td>\n",
       "      <td>4628.975079</td>\n",
       "      <td>3359.45000</td>\n",
       "      <td>5962.887455</td>\n",
       "      <td>3.555603e+07</td>\n",
       "      <td>135.160</td>\n",
       "      <td>351.970000</td>\n",
       "      <td>715.520000</td>\n",
       "      <td>1070.830000</td>\n",
       "      <td>1878.440000</td>\n",
       "      <td>3359.45000</td>\n",
       "      <td>5563.800000</td>\n",
       "      <td>8337.700000</td>\n",
       "      <td>11269.240000</td>\n",
       "      <td>27754.230000</td>\n",
       "      <td>108519.280000</td>\n",
       "    </tr>\n",
       "    <tr>\n",
       "      <td>CPI</td>\n",
       "      <td>421570.0</td>\n",
       "      <td>0.0</td>\n",
       "      <td>7.217360e+07</td>\n",
       "      <td>171.201947</td>\n",
       "      <td>182.31878</td>\n",
       "      <td>39.159276</td>\n",
       "      <td>1.533449e+03</td>\n",
       "      <td>126.064</td>\n",
       "      <td>126.111903</td>\n",
       "      <td>126.496258</td>\n",
       "      <td>128.823806</td>\n",
       "      <td>132.022667</td>\n",
       "      <td>182.31878</td>\n",
       "      <td>212.416993</td>\n",
       "      <td>219.444244</td>\n",
       "      <td>221.941558</td>\n",
       "      <td>225.473509</td>\n",
       "      <td>227.232807</td>\n",
       "    </tr>\n",
       "    <tr>\n",
       "      <td>Unemployment</td>\n",
       "      <td>421570.0</td>\n",
       "      <td>0.0</td>\n",
       "      <td>3.355819e+06</td>\n",
       "      <td>7.960289</td>\n",
       "      <td>7.86600</td>\n",
       "      <td>1.863296</td>\n",
       "      <td>3.471872e+00</td>\n",
       "      <td>3.879</td>\n",
       "      <td>4.156000</td>\n",
       "      <td>5.326000</td>\n",
       "      <td>5.965000</td>\n",
       "      <td>6.891000</td>\n",
       "      <td>7.86600</td>\n",
       "      <td>8.572000</td>\n",
       "      <td>9.816000</td>\n",
       "      <td>12.187000</td>\n",
       "      <td>14.180000</td>\n",
       "      <td>14.313000</td>\n",
       "    </tr>\n",
       "    <tr>\n",
       "      <td>Size</td>\n",
       "      <td>421570.0</td>\n",
       "      <td>0.0</td>\n",
       "      <td>5.764039e+10</td>\n",
       "      <td>136727.915739</td>\n",
       "      <td>140167.00000</td>\n",
       "      <td>60980.583328</td>\n",
       "      <td>3.718632e+09</td>\n",
       "      <td>34875.000</td>\n",
       "      <td>34875.000000</td>\n",
       "      <td>39690.000000</td>\n",
       "      <td>39910.000000</td>\n",
       "      <td>93638.000000</td>\n",
       "      <td>140167.00000</td>\n",
       "      <td>202505.000000</td>\n",
       "      <td>204184.000000</td>\n",
       "      <td>206302.000000</td>\n",
       "      <td>219622.000000</td>\n",
       "      <td>219622.000000</td>\n",
       "    </tr>\n",
       "    <tr>\n",
       "      <td>Weeks</td>\n",
       "      <td>418615.0</td>\n",
       "      <td>2955.0</td>\n",
       "      <td>3.001305e+07</td>\n",
       "      <td>71.696060</td>\n",
       "      <td>72.00000</td>\n",
       "      <td>40.989350</td>\n",
       "      <td>1.680127e+03</td>\n",
       "      <td>1.000</td>\n",
       "      <td>2.000000</td>\n",
       "      <td>8.000000</td>\n",
       "      <td>15.000000</td>\n",
       "      <td>36.000000</td>\n",
       "      <td>72.00000</td>\n",
       "      <td>107.000000</td>\n",
       "      <td>128.000000</td>\n",
       "      <td>135.000000</td>\n",
       "      <td>141.000000</td>\n",
       "      <td>142.000000</td>\n",
       "    </tr>\n",
       "  </tbody>\n",
       "</table>\n",
       "</div>"
      ],
      "text/plain": [
       "                     N     NMISS           SUM           MEAN        MEDIAN  \\\n",
       "Store         421570.0       0.0  9.359084e+06      22.200546      22.00000   \n",
       "Dept          421570.0       0.0  1.865882e+07      44.260317      37.00000   \n",
       "Weekly_Sales  420212.0    1358.0  6.737307e+09   16033.114591    7661.70000   \n",
       "Temperature   421501.0      69.0  2.533231e+07      60.100233      62.09000   \n",
       "Fuel_Price    421570.0       0.0  1.416908e+06       3.361027       3.45200   \n",
       "MarkDown1     150681.0  270889.0  1.091898e+09    7246.420196    5347.45000   \n",
       "MarkDown2     109730.0  311840.0  3.710112e+08    3381.128457     203.26000   \n",
       "MarkDown3     136767.0  284803.0  1.973339e+08    1442.847588      24.73000   \n",
       "MarkDown4     134967.0  286603.0  4.566161e+08    3383.168256    1481.31000   \n",
       "MarkDown5     151432.0  270138.0  7.009750e+08    4628.975079    3359.45000   \n",
       "CPI           421570.0       0.0  7.217360e+07     171.201947     182.31878   \n",
       "Unemployment  421570.0       0.0  3.355819e+06       7.960289       7.86600   \n",
       "Size          421570.0       0.0  5.764039e+10  136727.915739  140167.00000   \n",
       "Weeks         418615.0    2955.0  3.001305e+07      71.696060      72.00000   \n",
       "\n",
       "                       STD           VAR        MIN            P1  \\\n",
       "Store            12.785297  1.634638e+02      1.000      1.000000   \n",
       "Dept             30.492054  9.297654e+02      1.000      1.000000   \n",
       "Weekly_Sales  22729.492116  5.166298e+08      0.010      7.440000   \n",
       "Temperature      18.432294  3.397495e+02      5.540     18.360000   \n",
       "Fuel_Price        0.458515  2.102356e-01      2.472      2.565000   \n",
       "MarkDown1      8291.221345  6.874435e+07      0.270     17.760000   \n",
       "MarkDown2      9532.362243  9.086593e+07      0.020      0.300000   \n",
       "MarkDown3      9634.212338  9.281805e+07      0.010      0.150000   \n",
       "MarkDown4      6292.384031  3.959410e+07      0.220      3.970000   \n",
       "MarkDown5      5962.887455  3.555603e+07    135.160    351.970000   \n",
       "CPI              39.159276  1.533449e+03    126.064    126.111903   \n",
       "Unemployment      1.863296  3.471872e+00      3.879      4.156000   \n",
       "Size          60980.583328  3.718632e+09  34875.000  34875.000000   \n",
       "Weeks            40.989350  1.680127e+03      1.000      2.000000   \n",
       "\n",
       "                        P5           P10           P25           P50  \\\n",
       "Store             3.000000      5.000000     11.000000      22.00000   \n",
       "Dept              4.000000      7.000000     18.000000      37.00000   \n",
       "Weekly_Sales     67.551000    311.186000   2120.130000    7661.70000   \n",
       "Temperature      27.310000     33.990000     46.700000      62.09000   \n",
       "Fuel_Price        2.653000      2.720000      2.933000       3.45200   \n",
       "MarkDown1       149.190000    375.200000   2240.270000    5347.45000   \n",
       "MarkDown2         3.000000      7.910000     44.200000     203.26000   \n",
       "MarkDown3         0.700000      1.710000      5.160000      24.73000   \n",
       "MarkDown4        28.760000    108.710000    504.220000    1481.31000   \n",
       "MarkDown5       715.520000   1070.830000   1878.440000    3359.45000   \n",
       "CPI             126.496258    128.823806    132.022667     182.31878   \n",
       "Unemployment      5.326000      5.965000      6.891000       7.86600   \n",
       "Size          39690.000000  39910.000000  93638.000000  140167.00000   \n",
       "Weeks             8.000000     15.000000     36.000000      72.00000   \n",
       "\n",
       "                        P75            P90            P95            P99  \\\n",
       "Store             33.000000      40.000000      43.000000      45.000000   \n",
       "Dept              74.000000      92.000000      95.000000      98.000000   \n",
       "Weekly_Sales   20271.265000   42922.748000   61275.522000  106566.351400   \n",
       "Temperature       74.280000      83.580000      87.270000      92.810000   \n",
       "Fuel_Price         3.738000       3.917000       4.029000       4.202000   \n",
       "MarkDown1       9210.900000   15282.470000   21801.350000   41524.030000   \n",
       "MarkDown2       1991.380000    8716.860000   16590.750000   50366.600000   \n",
       "MarkDown3        104.140000     400.090000    1059.900000   63143.290000   \n",
       "MarkDown4       3595.040000    7871.420000   12645.960000   35785.260000   \n",
       "MarkDown5       5563.800000    8337.700000   11269.240000   27754.230000   \n",
       "CPI              212.416993     219.444244     221.941558     225.473509   \n",
       "Unemployment       8.572000       9.816000      12.187000      14.180000   \n",
       "Size          202505.000000  204184.000000  206302.000000  219622.000000   \n",
       "Weeks            107.000000     128.000000     135.000000     141.000000   \n",
       "\n",
       "                        MAX  \n",
       "Store             45.000000  \n",
       "Dept              99.000000  \n",
       "Weekly_Sales  693099.360000  \n",
       "Temperature      100.140000  \n",
       "Fuel_Price         4.468000  \n",
       "MarkDown1      88646.760000  \n",
       "MarkDown2     104519.540000  \n",
       "MarkDown3     141630.610000  \n",
       "MarkDown4      67474.850000  \n",
       "MarkDown5     108519.280000  \n",
       "CPI              227.232807  \n",
       "Unemployment      14.313000  \n",
       "Size          219622.000000  \n",
       "Weeks            142.000000  "
      ]
     },
     "execution_count": 25,
     "metadata": {},
     "output_type": "execute_result"
    }
   ],
   "source": [
    "train_num.apply(continuous_var_summary).T"
   ]
  },
  {
   "cell_type": "code",
   "execution_count": 26,
   "metadata": {},
   "outputs": [],
   "source": [
    "num_var_summary = train_num.apply(continuous_var_summary).T\n",
    "num_var_summary.to_csv('num_var_summary.csv')"
   ]
  },
  {
   "cell_type": "code",
   "execution_count": 27,
   "metadata": {},
   "outputs": [
    {
     "data": {
      "text/html": [
       "<div>\n",
       "<style scoped>\n",
       "    .dataframe tbody tr th:only-of-type {\n",
       "        vertical-align: middle;\n",
       "    }\n",
       "\n",
       "    .dataframe tbody tr th {\n",
       "        vertical-align: top;\n",
       "    }\n",
       "\n",
       "    .dataframe thead th {\n",
       "        text-align: right;\n",
       "    }\n",
       "</style>\n",
       "<table border=\"1\" class=\"dataframe\">\n",
       "  <thead>\n",
       "    <tr style=\"text-align: right;\">\n",
       "      <th></th>\n",
       "      <th>IsHoliday</th>\n",
       "      <th>Type</th>\n",
       "    </tr>\n",
       "  </thead>\n",
       "  <tbody>\n",
       "    <tr>\n",
       "      <td>N</td>\n",
       "      <td>421570</td>\n",
       "      <td>421570</td>\n",
       "    </tr>\n",
       "    <tr>\n",
       "      <td>NMISS</td>\n",
       "      <td>0</td>\n",
       "      <td>0</td>\n",
       "    </tr>\n",
       "    <tr>\n",
       "      <td>MODE</td>\n",
       "      <td>False</td>\n",
       "      <td>A</td>\n",
       "    </tr>\n",
       "    <tr>\n",
       "      <td>FREQ</td>\n",
       "      <td>391909</td>\n",
       "      <td>215478</td>\n",
       "    </tr>\n",
       "    <tr>\n",
       "      <td>PERCENT</td>\n",
       "      <td>92.96</td>\n",
       "      <td>51.11</td>\n",
       "    </tr>\n",
       "  </tbody>\n",
       "</table>\n",
       "</div>"
      ],
      "text/plain": [
       "        IsHoliday    Type\n",
       "N          421570  421570\n",
       "NMISS           0       0\n",
       "MODE        False       A\n",
       "FREQ       391909  215478\n",
       "PERCENT     92.96   51.11"
      ]
     },
     "execution_count": 27,
     "metadata": {},
     "output_type": "execute_result"
    }
   ],
   "source": [
    "train_cat.apply(categorical_var_summary)"
   ]
  },
  {
   "cell_type": "markdown",
   "metadata": {},
   "source": [
    "### Missing Value Treatment"
   ]
  },
  {
   "cell_type": "code",
   "execution_count": 28,
   "metadata": {},
   "outputs": [],
   "source": [
    "def missing_imputation(x):\n",
    "    return x.fillna(x.median())"
   ]
  },
  {
   "cell_type": "code",
   "execution_count": 29,
   "metadata": {},
   "outputs": [],
   "source": [
    "train_num = train_num.apply(missing_imputation)\n",
    "test_num = test_num.apply(missing_imputation)"
   ]
  },
  {
   "cell_type": "markdown",
   "metadata": {},
   "source": [
    "### Handling Outlier"
   ]
  },
  {
   "cell_type": "code",
   "execution_count": 30,
   "metadata": {},
   "outputs": [],
   "source": [
    "train_num = train_num.apply(lambda x : x.clip(lower = x.dropna().quantile(0.05), upper = x.quantile(0.95)))\n",
    "test_num = test_num.apply(lambda x : x.clip(lower = x.dropna().quantile(0.05), upper = x.quantile(0.95)))"
   ]
  },
  {
   "cell_type": "markdown",
   "metadata": {},
   "source": [
    "### Creating Dummy Variables"
   ]
  },
  {
   "cell_type": "code",
   "execution_count": 31,
   "metadata": {},
   "outputs": [],
   "source": [
    "# An utility function to create dummy variable\n",
    "def create_dummies(df, colname):\n",
    "    col_dummies = pd.get_dummies(df[colname], prefix = colname, drop_first = True)\n",
    "    df = pd.concat([df, col_dummies], axis = 1)\n",
    "    df.drop(colname, axis = 1, inplace = True )\n",
    "    return df"
   ]
  },
  {
   "cell_type": "code",
   "execution_count": 32,
   "metadata": {},
   "outputs": [],
   "source": [
    "for i in ['IsHoliday', 'Type']:\n",
    "    train_cat = create_dummies(train_cat, i)\n",
    "    test_cat = create_dummies(test_cat, i)"
   ]
  },
  {
   "cell_type": "code",
   "execution_count": 33,
   "metadata": {},
   "outputs": [
    {
     "data": {
      "text/html": [
       "<div>\n",
       "<style scoped>\n",
       "    .dataframe tbody tr th:only-of-type {\n",
       "        vertical-align: middle;\n",
       "    }\n",
       "\n",
       "    .dataframe tbody tr th {\n",
       "        vertical-align: top;\n",
       "    }\n",
       "\n",
       "    .dataframe thead th {\n",
       "        text-align: right;\n",
       "    }\n",
       "</style>\n",
       "<table border=\"1\" class=\"dataframe\">\n",
       "  <thead>\n",
       "    <tr style=\"text-align: right;\">\n",
       "      <th></th>\n",
       "      <th>IsHoliday_True</th>\n",
       "      <th>Type_B</th>\n",
       "      <th>Type_C</th>\n",
       "    </tr>\n",
       "  </thead>\n",
       "  <tbody>\n",
       "    <tr>\n",
       "      <td>0</td>\n",
       "      <td>0</td>\n",
       "      <td>0</td>\n",
       "      <td>0</td>\n",
       "    </tr>\n",
       "    <tr>\n",
       "      <td>1</td>\n",
       "      <td>0</td>\n",
       "      <td>0</td>\n",
       "      <td>0</td>\n",
       "    </tr>\n",
       "    <tr>\n",
       "      <td>2</td>\n",
       "      <td>0</td>\n",
       "      <td>0</td>\n",
       "      <td>0</td>\n",
       "    </tr>\n",
       "    <tr>\n",
       "      <td>3</td>\n",
       "      <td>0</td>\n",
       "      <td>0</td>\n",
       "      <td>0</td>\n",
       "    </tr>\n",
       "    <tr>\n",
       "      <td>4</td>\n",
       "      <td>0</td>\n",
       "      <td>0</td>\n",
       "      <td>0</td>\n",
       "    </tr>\n",
       "  </tbody>\n",
       "</table>\n",
       "</div>"
      ],
      "text/plain": [
       "   IsHoliday_True  Type_B  Type_C\n",
       "0               0       0       0\n",
       "1               0       0       0\n",
       "2               0       0       0\n",
       "3               0       0       0\n",
       "4               0       0       0"
      ]
     },
     "execution_count": 33,
     "metadata": {},
     "output_type": "execute_result"
    }
   ],
   "source": [
    "train_cat.head()"
   ]
  },
  {
   "cell_type": "code",
   "execution_count": 34,
   "metadata": {},
   "outputs": [],
   "source": [
    "train = pd.concat([train_num, train_cat], axis = 1)\n",
    "test = pd.concat([test_num, test_cat], axis = 1)"
   ]
  },
  {
   "cell_type": "code",
   "execution_count": 35,
   "metadata": {},
   "outputs": [
    {
     "data": {
      "text/html": [
       "<div>\n",
       "<style scoped>\n",
       "    .dataframe tbody tr th:only-of-type {\n",
       "        vertical-align: middle;\n",
       "    }\n",
       "\n",
       "    .dataframe tbody tr th {\n",
       "        vertical-align: top;\n",
       "    }\n",
       "\n",
       "    .dataframe thead th {\n",
       "        text-align: right;\n",
       "    }\n",
       "</style>\n",
       "<table border=\"1\" class=\"dataframe\">\n",
       "  <thead>\n",
       "    <tr style=\"text-align: right;\">\n",
       "      <th></th>\n",
       "      <th>Store</th>\n",
       "      <th>Dept</th>\n",
       "      <th>Weekly_Sales</th>\n",
       "      <th>Temperature</th>\n",
       "      <th>Fuel_Price</th>\n",
       "      <th>MarkDown1</th>\n",
       "      <th>MarkDown2</th>\n",
       "      <th>MarkDown3</th>\n",
       "      <th>MarkDown4</th>\n",
       "      <th>MarkDown5</th>\n",
       "      <th>CPI</th>\n",
       "      <th>Unemployment</th>\n",
       "      <th>Size</th>\n",
       "      <th>Weeks</th>\n",
       "      <th>IsHoliday_True</th>\n",
       "      <th>Type_B</th>\n",
       "      <th>Type_C</th>\n",
       "    </tr>\n",
       "  </thead>\n",
       "  <tbody>\n",
       "    <tr>\n",
       "      <td>0</td>\n",
       "      <td>3</td>\n",
       "      <td>4</td>\n",
       "      <td>24924.50</td>\n",
       "      <td>42.31</td>\n",
       "      <td>2.653</td>\n",
       "      <td>5347.45</td>\n",
       "      <td>203.26</td>\n",
       "      <td>24.73</td>\n",
       "      <td>1481.31</td>\n",
       "      <td>3359.45</td>\n",
       "      <td>211.096358</td>\n",
       "      <td>8.106</td>\n",
       "      <td>151315</td>\n",
       "      <td>72.0</td>\n",
       "      <td>0</td>\n",
       "      <td>0</td>\n",
       "      <td>0</td>\n",
       "    </tr>\n",
       "    <tr>\n",
       "      <td>1</td>\n",
       "      <td>3</td>\n",
       "      <td>4</td>\n",
       "      <td>50605.27</td>\n",
       "      <td>42.31</td>\n",
       "      <td>2.653</td>\n",
       "      <td>5347.45</td>\n",
       "      <td>203.26</td>\n",
       "      <td>24.73</td>\n",
       "      <td>1481.31</td>\n",
       "      <td>3359.45</td>\n",
       "      <td>211.096358</td>\n",
       "      <td>8.106</td>\n",
       "      <td>151315</td>\n",
       "      <td>72.0</td>\n",
       "      <td>0</td>\n",
       "      <td>0</td>\n",
       "      <td>0</td>\n",
       "    </tr>\n",
       "    <tr>\n",
       "      <td>2</td>\n",
       "      <td>3</td>\n",
       "      <td>4</td>\n",
       "      <td>13740.12</td>\n",
       "      <td>42.31</td>\n",
       "      <td>2.653</td>\n",
       "      <td>5347.45</td>\n",
       "      <td>203.26</td>\n",
       "      <td>24.73</td>\n",
       "      <td>1481.31</td>\n",
       "      <td>3359.45</td>\n",
       "      <td>211.096358</td>\n",
       "      <td>8.106</td>\n",
       "      <td>151315</td>\n",
       "      <td>72.0</td>\n",
       "      <td>0</td>\n",
       "      <td>0</td>\n",
       "      <td>0</td>\n",
       "    </tr>\n",
       "    <tr>\n",
       "      <td>3</td>\n",
       "      <td>3</td>\n",
       "      <td>4</td>\n",
       "      <td>39954.04</td>\n",
       "      <td>42.31</td>\n",
       "      <td>2.653</td>\n",
       "      <td>5347.45</td>\n",
       "      <td>203.26</td>\n",
       "      <td>24.73</td>\n",
       "      <td>1481.31</td>\n",
       "      <td>3359.45</td>\n",
       "      <td>211.096358</td>\n",
       "      <td>8.106</td>\n",
       "      <td>151315</td>\n",
       "      <td>72.0</td>\n",
       "      <td>0</td>\n",
       "      <td>0</td>\n",
       "      <td>0</td>\n",
       "    </tr>\n",
       "    <tr>\n",
       "      <td>4</td>\n",
       "      <td>3</td>\n",
       "      <td>5</td>\n",
       "      <td>32229.38</td>\n",
       "      <td>42.31</td>\n",
       "      <td>2.653</td>\n",
       "      <td>5347.45</td>\n",
       "      <td>203.26</td>\n",
       "      <td>24.73</td>\n",
       "      <td>1481.31</td>\n",
       "      <td>3359.45</td>\n",
       "      <td>211.096358</td>\n",
       "      <td>8.106</td>\n",
       "      <td>151315</td>\n",
       "      <td>72.0</td>\n",
       "      <td>0</td>\n",
       "      <td>0</td>\n",
       "      <td>0</td>\n",
       "    </tr>\n",
       "  </tbody>\n",
       "</table>\n",
       "</div>"
      ],
      "text/plain": [
       "   Store  Dept  Weekly_Sales  Temperature  Fuel_Price  MarkDown1  MarkDown2  \\\n",
       "0      3     4      24924.50        42.31       2.653    5347.45     203.26   \n",
       "1      3     4      50605.27        42.31       2.653    5347.45     203.26   \n",
       "2      3     4      13740.12        42.31       2.653    5347.45     203.26   \n",
       "3      3     4      39954.04        42.31       2.653    5347.45     203.26   \n",
       "4      3     5      32229.38        42.31       2.653    5347.45     203.26   \n",
       "\n",
       "   MarkDown3  MarkDown4  MarkDown5         CPI  Unemployment    Size  Weeks  \\\n",
       "0      24.73    1481.31    3359.45  211.096358         8.106  151315   72.0   \n",
       "1      24.73    1481.31    3359.45  211.096358         8.106  151315   72.0   \n",
       "2      24.73    1481.31    3359.45  211.096358         8.106  151315   72.0   \n",
       "3      24.73    1481.31    3359.45  211.096358         8.106  151315   72.0   \n",
       "4      24.73    1481.31    3359.45  211.096358         8.106  151315   72.0   \n",
       "\n",
       "   IsHoliday_True  Type_B  Type_C  \n",
       "0               0       0       0  \n",
       "1               0       0       0  \n",
       "2               0       0       0  \n",
       "3               0       0       0  \n",
       "4               0       0       0  "
      ]
     },
     "execution_count": 35,
     "metadata": {},
     "output_type": "execute_result"
    }
   ],
   "source": [
    "train.head()"
   ]
  },
  {
   "cell_type": "code",
   "execution_count": 36,
   "metadata": {},
   "outputs": [
    {
     "data": {
      "text/html": [
       "<div>\n",
       "<style scoped>\n",
       "    .dataframe tbody tr th:only-of-type {\n",
       "        vertical-align: middle;\n",
       "    }\n",
       "\n",
       "    .dataframe tbody tr th {\n",
       "        vertical-align: top;\n",
       "    }\n",
       "\n",
       "    .dataframe thead th {\n",
       "        text-align: right;\n",
       "    }\n",
       "</style>\n",
       "<table border=\"1\" class=\"dataframe\">\n",
       "  <thead>\n",
       "    <tr style=\"text-align: right;\">\n",
       "      <th></th>\n",
       "      <th>Store</th>\n",
       "      <th>Dept</th>\n",
       "      <th>Weekly_Sales</th>\n",
       "      <th>Temperature</th>\n",
       "      <th>Fuel_Price</th>\n",
       "      <th>MarkDown1</th>\n",
       "      <th>MarkDown2</th>\n",
       "      <th>MarkDown3</th>\n",
       "      <th>MarkDown4</th>\n",
       "      <th>MarkDown5</th>\n",
       "      <th>CPI</th>\n",
       "      <th>Unemployment</th>\n",
       "      <th>Size</th>\n",
       "      <th>Weeks</th>\n",
       "      <th>IsHoliday_True</th>\n",
       "      <th>Type_B</th>\n",
       "      <th>Type_C</th>\n",
       "    </tr>\n",
       "  </thead>\n",
       "  <tbody>\n",
       "    <tr>\n",
       "      <td>Store</td>\n",
       "      <td>1.000000</td>\n",
       "      <td>0.024547</td>\n",
       "      <td>-0.077143</td>\n",
       "      <td>-0.052561</td>\n",
       "      <td>0.062560</td>\n",
       "      <td>-0.109868</td>\n",
       "      <td>-0.025493</td>\n",
       "      <td>-0.039585</td>\n",
       "      <td>-0.042612</td>\n",
       "      <td>-0.077730</td>\n",
       "      <td>-0.205784</td>\n",
       "      <td>0.243623</td>\n",
       "      <td>-0.181081</td>\n",
       "      <td>0.003222</td>\n",
       "      <td>-0.000552</td>\n",
       "      <td>-0.245708</td>\n",
       "      <td>0.442014</td>\n",
       "    </tr>\n",
       "    <tr>\n",
       "      <td>Dept</td>\n",
       "      <td>0.024547</td>\n",
       "      <td>1.000000</td>\n",
       "      <td>0.123195</td>\n",
       "      <td>0.004324</td>\n",
       "      <td>0.003318</td>\n",
       "      <td>-0.002819</td>\n",
       "      <td>-0.000075</td>\n",
       "      <td>0.001755</td>\n",
       "      <td>0.002776</td>\n",
       "      <td>-0.000174</td>\n",
       "      <td>-0.007375</td>\n",
       "      <td>0.009095</td>\n",
       "      <td>-0.003716</td>\n",
       "      <td>0.003871</td>\n",
       "      <td>0.000872</td>\n",
       "      <td>-0.029742</td>\n",
       "      <td>0.028559</td>\n",
       "    </tr>\n",
       "    <tr>\n",
       "      <td>Weekly_Sales</td>\n",
       "      <td>-0.077143</td>\n",
       "      <td>0.123195</td>\n",
       "      <td>1.000000</td>\n",
       "      <td>0.002109</td>\n",
       "      <td>0.002560</td>\n",
       "      <td>0.083990</td>\n",
       "      <td>0.013405</td>\n",
       "      <td>0.068797</td>\n",
       "      <td>0.062246</td>\n",
       "      <td>0.099209</td>\n",
       "      <td>-0.027362</td>\n",
       "      <td>-0.019742</td>\n",
       "      <td>0.257656</td>\n",
       "      <td>-0.001214</td>\n",
       "      <td>0.006599</td>\n",
       "      <td>-0.131243</td>\n",
       "      <td>-0.103919</td>\n",
       "    </tr>\n",
       "    <tr>\n",
       "      <td>Temperature</td>\n",
       "      <td>-0.052561</td>\n",
       "      <td>0.004324</td>\n",
       "      <td>0.002109</td>\n",
       "      <td>1.000000</td>\n",
       "      <td>0.138154</td>\n",
       "      <td>0.005878</td>\n",
       "      <td>-0.286271</td>\n",
       "      <td>-0.165590</td>\n",
       "      <td>0.044820</td>\n",
       "      <td>-0.040970</td>\n",
       "      <td>0.189349</td>\n",
       "      <td>0.073775</td>\n",
       "      <td>-0.058468</td>\n",
       "      <td>0.127505</td>\n",
       "      <td>-0.154139</td>\n",
       "      <td>-0.106118</td>\n",
       "      <td>0.134425</td>\n",
       "    </tr>\n",
       "    <tr>\n",
       "      <td>Fuel_Price</td>\n",
       "      <td>0.062560</td>\n",
       "      <td>0.003318</td>\n",
       "      <td>0.002560</td>\n",
       "      <td>0.138154</td>\n",
       "      <td>1.000000</td>\n",
       "      <td>0.112353</td>\n",
       "      <td>0.105904</td>\n",
       "      <td>0.082313</td>\n",
       "      <td>0.138789</td>\n",
       "      <td>0.049054</td>\n",
       "      <td>-0.154353</td>\n",
       "      <td>-0.033980</td>\n",
       "      <td>0.005248</td>\n",
       "      <td>0.767846</td>\n",
       "      <td>-0.075053</td>\n",
       "      <td>0.037624</td>\n",
       "      <td>-0.000983</td>\n",
       "    </tr>\n",
       "    <tr>\n",
       "      <td>MarkDown1</td>\n",
       "      <td>-0.109868</td>\n",
       "      <td>-0.002819</td>\n",
       "      <td>0.083990</td>\n",
       "      <td>0.005878</td>\n",
       "      <td>0.112353</td>\n",
       "      <td>1.000000</td>\n",
       "      <td>0.215213</td>\n",
       "      <td>0.127549</td>\n",
       "      <td>0.681660</td>\n",
       "      <td>0.443308</td>\n",
       "      <td>-0.032828</td>\n",
       "      <td>0.014047</td>\n",
       "      <td>0.301712</td>\n",
       "      <td>0.098404</td>\n",
       "      <td>-0.010764</td>\n",
       "      <td>-0.008325</td>\n",
       "      <td>-0.245708</td>\n",
       "    </tr>\n",
       "    <tr>\n",
       "      <td>MarkDown2</td>\n",
       "      <td>-0.025493</td>\n",
       "      <td>-0.000075</td>\n",
       "      <td>0.013405</td>\n",
       "      <td>-0.286271</td>\n",
       "      <td>0.105904</td>\n",
       "      <td>0.215213</td>\n",
       "      <td>1.000000</td>\n",
       "      <td>0.236252</td>\n",
       "      <td>0.207419</td>\n",
       "      <td>0.202466</td>\n",
       "      <td>-0.007426</td>\n",
       "      <td>-0.055525</td>\n",
       "      <td>0.087136</td>\n",
       "      <td>0.210834</td>\n",
       "      <td>0.115904</td>\n",
       "      <td>0.009108</td>\n",
       "      <td>-0.079216</td>\n",
       "    </tr>\n",
       "    <tr>\n",
       "      <td>MarkDown3</td>\n",
       "      <td>-0.039585</td>\n",
       "      <td>0.001755</td>\n",
       "      <td>0.068797</td>\n",
       "      <td>-0.165590</td>\n",
       "      <td>0.082313</td>\n",
       "      <td>0.127549</td>\n",
       "      <td>0.236252</td>\n",
       "      <td>1.000000</td>\n",
       "      <td>0.109528</td>\n",
       "      <td>0.268489</td>\n",
       "      <td>-0.005020</td>\n",
       "      <td>-0.056058</td>\n",
       "      <td>0.161215</td>\n",
       "      <td>0.219302</td>\n",
       "      <td>0.139366</td>\n",
       "      <td>-0.052144</td>\n",
       "      <td>-0.104094</td>\n",
       "    </tr>\n",
       "    <tr>\n",
       "      <td>MarkDown4</td>\n",
       "      <td>-0.042612</td>\n",
       "      <td>0.002776</td>\n",
       "      <td>0.062246</td>\n",
       "      <td>0.044820</td>\n",
       "      <td>0.138789</td>\n",
       "      <td>0.681660</td>\n",
       "      <td>0.207419</td>\n",
       "      <td>0.109528</td>\n",
       "      <td>1.000000</td>\n",
       "      <td>0.363988</td>\n",
       "      <td>-0.017052</td>\n",
       "      <td>-0.039915</td>\n",
       "      <td>0.173598</td>\n",
       "      <td>0.228804</td>\n",
       "      <td>-0.002864</td>\n",
       "      <td>-0.037122</td>\n",
       "      <td>-0.097040</td>\n",
       "    </tr>\n",
       "    <tr>\n",
       "      <td>MarkDown5</td>\n",
       "      <td>-0.077730</td>\n",
       "      <td>-0.000174</td>\n",
       "      <td>0.099209</td>\n",
       "      <td>-0.040970</td>\n",
       "      <td>0.049054</td>\n",
       "      <td>0.443308</td>\n",
       "      <td>0.202466</td>\n",
       "      <td>0.268489</td>\n",
       "      <td>0.363988</td>\n",
       "      <td>1.000000</td>\n",
       "      <td>0.027293</td>\n",
       "      <td>-0.042526</td>\n",
       "      <td>0.329432</td>\n",
       "      <td>0.126501</td>\n",
       "      <td>-0.022432</td>\n",
       "      <td>-0.113744</td>\n",
       "      <td>-0.201908</td>\n",
       "    </tr>\n",
       "    <tr>\n",
       "      <td>CPI</td>\n",
       "      <td>-0.205784</td>\n",
       "      <td>-0.007375</td>\n",
       "      <td>-0.027362</td>\n",
       "      <td>0.189349</td>\n",
       "      <td>-0.154353</td>\n",
       "      <td>-0.032828</td>\n",
       "      <td>-0.007426</td>\n",
       "      <td>-0.005020</td>\n",
       "      <td>-0.017052</td>\n",
       "      <td>0.027293</td>\n",
       "      <td>1.000000</td>\n",
       "      <td>-0.319258</td>\n",
       "      <td>0.004880</td>\n",
       "      <td>0.072990</td>\n",
       "      <td>-0.001731</td>\n",
       "      <td>-0.082525</td>\n",
       "      <td>-0.005622</td>\n",
       "    </tr>\n",
       "    <tr>\n",
       "      <td>Unemployment</td>\n",
       "      <td>0.243623</td>\n",
       "      <td>0.009095</td>\n",
       "      <td>-0.019742</td>\n",
       "      <td>0.073775</td>\n",
       "      <td>-0.033980</td>\n",
       "      <td>0.014047</td>\n",
       "      <td>-0.055525</td>\n",
       "      <td>-0.056058</td>\n",
       "      <td>-0.039915</td>\n",
       "      <td>-0.042526</td>\n",
       "      <td>-0.319258</td>\n",
       "      <td>1.000000</td>\n",
       "      <td>-0.068228</td>\n",
       "      <td>-0.232827</td>\n",
       "      <td>0.010156</td>\n",
       "      <td>-0.012877</td>\n",
       "      <td>0.173485</td>\n",
       "    </tr>\n",
       "    <tr>\n",
       "      <td>Size</td>\n",
       "      <td>-0.181081</td>\n",
       "      <td>-0.003716</td>\n",
       "      <td>0.257656</td>\n",
       "      <td>-0.058468</td>\n",
       "      <td>0.005248</td>\n",
       "      <td>0.301712</td>\n",
       "      <td>0.087136</td>\n",
       "      <td>0.161215</td>\n",
       "      <td>0.173598</td>\n",
       "      <td>0.329432</td>\n",
       "      <td>0.004880</td>\n",
       "      <td>-0.068228</td>\n",
       "      <td>1.000000</td>\n",
       "      <td>-0.005360</td>\n",
       "      <td>0.000600</td>\n",
       "      <td>-0.453006</td>\n",
       "      <td>-0.533820</td>\n",
       "    </tr>\n",
       "    <tr>\n",
       "      <td>Weeks</td>\n",
       "      <td>0.003222</td>\n",
       "      <td>0.003871</td>\n",
       "      <td>-0.001214</td>\n",
       "      <td>0.127505</td>\n",
       "      <td>0.767846</td>\n",
       "      <td>0.098404</td>\n",
       "      <td>0.210834</td>\n",
       "      <td>0.219302</td>\n",
       "      <td>0.228804</td>\n",
       "      <td>0.126501</td>\n",
       "      <td>0.072990</td>\n",
       "      <td>-0.232827</td>\n",
       "      <td>-0.005360</td>\n",
       "      <td>1.000000</td>\n",
       "      <td>-0.012041</td>\n",
       "      <td>-0.000679</td>\n",
       "      <td>0.005230</td>\n",
       "    </tr>\n",
       "    <tr>\n",
       "      <td>IsHoliday_True</td>\n",
       "      <td>-0.000552</td>\n",
       "      <td>0.000872</td>\n",
       "      <td>0.006599</td>\n",
       "      <td>-0.154139</td>\n",
       "      <td>-0.075053</td>\n",
       "      <td>-0.010764</td>\n",
       "      <td>0.115904</td>\n",
       "      <td>0.139366</td>\n",
       "      <td>-0.002864</td>\n",
       "      <td>-0.022432</td>\n",
       "      <td>-0.001731</td>\n",
       "      <td>0.010156</td>\n",
       "      <td>0.000600</td>\n",
       "      <td>-0.012041</td>\n",
       "      <td>1.000000</td>\n",
       "      <td>0.000167</td>\n",
       "      <td>-0.001017</td>\n",
       "    </tr>\n",
       "    <tr>\n",
       "      <td>Type_B</td>\n",
       "      <td>-0.245708</td>\n",
       "      <td>-0.029742</td>\n",
       "      <td>-0.131243</td>\n",
       "      <td>-0.106118</td>\n",
       "      <td>0.037624</td>\n",
       "      <td>-0.008325</td>\n",
       "      <td>0.009108</td>\n",
       "      <td>-0.052144</td>\n",
       "      <td>-0.037122</td>\n",
       "      <td>-0.113744</td>\n",
       "      <td>-0.082525</td>\n",
       "      <td>-0.012877</td>\n",
       "      <td>-0.453006</td>\n",
       "      <td>-0.000679</td>\n",
       "      <td>0.000167</td>\n",
       "      <td>1.000000</td>\n",
       "      <td>-0.266848</td>\n",
       "    </tr>\n",
       "    <tr>\n",
       "      <td>Type_C</td>\n",
       "      <td>0.442014</td>\n",
       "      <td>0.028559</td>\n",
       "      <td>-0.103919</td>\n",
       "      <td>0.134425</td>\n",
       "      <td>-0.000983</td>\n",
       "      <td>-0.245708</td>\n",
       "      <td>-0.079216</td>\n",
       "      <td>-0.104094</td>\n",
       "      <td>-0.097040</td>\n",
       "      <td>-0.201908</td>\n",
       "      <td>-0.005622</td>\n",
       "      <td>0.173485</td>\n",
       "      <td>-0.533820</td>\n",
       "      <td>0.005230</td>\n",
       "      <td>-0.001017</td>\n",
       "      <td>-0.266848</td>\n",
       "      <td>1.000000</td>\n",
       "    </tr>\n",
       "  </tbody>\n",
       "</table>\n",
       "</div>"
      ],
      "text/plain": [
       "                   Store      Dept  Weekly_Sales  Temperature  Fuel_Price  \\\n",
       "Store           1.000000  0.024547     -0.077143    -0.052561    0.062560   \n",
       "Dept            0.024547  1.000000      0.123195     0.004324    0.003318   \n",
       "Weekly_Sales   -0.077143  0.123195      1.000000     0.002109    0.002560   \n",
       "Temperature    -0.052561  0.004324      0.002109     1.000000    0.138154   \n",
       "Fuel_Price      0.062560  0.003318      0.002560     0.138154    1.000000   \n",
       "MarkDown1      -0.109868 -0.002819      0.083990     0.005878    0.112353   \n",
       "MarkDown2      -0.025493 -0.000075      0.013405    -0.286271    0.105904   \n",
       "MarkDown3      -0.039585  0.001755      0.068797    -0.165590    0.082313   \n",
       "MarkDown4      -0.042612  0.002776      0.062246     0.044820    0.138789   \n",
       "MarkDown5      -0.077730 -0.000174      0.099209    -0.040970    0.049054   \n",
       "CPI            -0.205784 -0.007375     -0.027362     0.189349   -0.154353   \n",
       "Unemployment    0.243623  0.009095     -0.019742     0.073775   -0.033980   \n",
       "Size           -0.181081 -0.003716      0.257656    -0.058468    0.005248   \n",
       "Weeks           0.003222  0.003871     -0.001214     0.127505    0.767846   \n",
       "IsHoliday_True -0.000552  0.000872      0.006599    -0.154139   -0.075053   \n",
       "Type_B         -0.245708 -0.029742     -0.131243    -0.106118    0.037624   \n",
       "Type_C          0.442014  0.028559     -0.103919     0.134425   -0.000983   \n",
       "\n",
       "                MarkDown1  MarkDown2  MarkDown3  MarkDown4  MarkDown5  \\\n",
       "Store           -0.109868  -0.025493  -0.039585  -0.042612  -0.077730   \n",
       "Dept            -0.002819  -0.000075   0.001755   0.002776  -0.000174   \n",
       "Weekly_Sales     0.083990   0.013405   0.068797   0.062246   0.099209   \n",
       "Temperature      0.005878  -0.286271  -0.165590   0.044820  -0.040970   \n",
       "Fuel_Price       0.112353   0.105904   0.082313   0.138789   0.049054   \n",
       "MarkDown1        1.000000   0.215213   0.127549   0.681660   0.443308   \n",
       "MarkDown2        0.215213   1.000000   0.236252   0.207419   0.202466   \n",
       "MarkDown3        0.127549   0.236252   1.000000   0.109528   0.268489   \n",
       "MarkDown4        0.681660   0.207419   0.109528   1.000000   0.363988   \n",
       "MarkDown5        0.443308   0.202466   0.268489   0.363988   1.000000   \n",
       "CPI             -0.032828  -0.007426  -0.005020  -0.017052   0.027293   \n",
       "Unemployment     0.014047  -0.055525  -0.056058  -0.039915  -0.042526   \n",
       "Size             0.301712   0.087136   0.161215   0.173598   0.329432   \n",
       "Weeks            0.098404   0.210834   0.219302   0.228804   0.126501   \n",
       "IsHoliday_True  -0.010764   0.115904   0.139366  -0.002864  -0.022432   \n",
       "Type_B          -0.008325   0.009108  -0.052144  -0.037122  -0.113744   \n",
       "Type_C          -0.245708  -0.079216  -0.104094  -0.097040  -0.201908   \n",
       "\n",
       "                     CPI  Unemployment      Size     Weeks  IsHoliday_True  \\\n",
       "Store          -0.205784      0.243623 -0.181081  0.003222       -0.000552   \n",
       "Dept           -0.007375      0.009095 -0.003716  0.003871        0.000872   \n",
       "Weekly_Sales   -0.027362     -0.019742  0.257656 -0.001214        0.006599   \n",
       "Temperature     0.189349      0.073775 -0.058468  0.127505       -0.154139   \n",
       "Fuel_Price     -0.154353     -0.033980  0.005248  0.767846       -0.075053   \n",
       "MarkDown1      -0.032828      0.014047  0.301712  0.098404       -0.010764   \n",
       "MarkDown2      -0.007426     -0.055525  0.087136  0.210834        0.115904   \n",
       "MarkDown3      -0.005020     -0.056058  0.161215  0.219302        0.139366   \n",
       "MarkDown4      -0.017052     -0.039915  0.173598  0.228804       -0.002864   \n",
       "MarkDown5       0.027293     -0.042526  0.329432  0.126501       -0.022432   \n",
       "CPI             1.000000     -0.319258  0.004880  0.072990       -0.001731   \n",
       "Unemployment   -0.319258      1.000000 -0.068228 -0.232827        0.010156   \n",
       "Size            0.004880     -0.068228  1.000000 -0.005360        0.000600   \n",
       "Weeks           0.072990     -0.232827 -0.005360  1.000000       -0.012041   \n",
       "IsHoliday_True -0.001731      0.010156  0.000600 -0.012041        1.000000   \n",
       "Type_B         -0.082525     -0.012877 -0.453006 -0.000679        0.000167   \n",
       "Type_C         -0.005622      0.173485 -0.533820  0.005230       -0.001017   \n",
       "\n",
       "                  Type_B    Type_C  \n",
       "Store          -0.245708  0.442014  \n",
       "Dept           -0.029742  0.028559  \n",
       "Weekly_Sales   -0.131243 -0.103919  \n",
       "Temperature    -0.106118  0.134425  \n",
       "Fuel_Price      0.037624 -0.000983  \n",
       "MarkDown1      -0.008325 -0.245708  \n",
       "MarkDown2       0.009108 -0.079216  \n",
       "MarkDown3      -0.052144 -0.104094  \n",
       "MarkDown4      -0.037122 -0.097040  \n",
       "MarkDown5      -0.113744 -0.201908  \n",
       "CPI            -0.082525 -0.005622  \n",
       "Unemployment   -0.012877  0.173485  \n",
       "Size           -0.453006 -0.533820  \n",
       "Weeks          -0.000679  0.005230  \n",
       "IsHoliday_True  0.000167 -0.001017  \n",
       "Type_B          1.000000 -0.266848  \n",
       "Type_C         -0.266848  1.000000  "
      ]
     },
     "execution_count": 36,
     "metadata": {},
     "output_type": "execute_result"
    }
   ],
   "source": [
    "# correlation matrix (ranges from 1 to -1)\n",
    "corrm = train.corr()\n",
    "corrm.to_csv(\"corrm.csv\")\n",
    "corrm"
   ]
  },
  {
   "cell_type": "code",
   "execution_count": 37,
   "metadata": {},
   "outputs": [
    {
     "data": {
      "image/png": "[encoded data removed]",
      "text/plain": [
       "<Figure size 720x576 with 2 Axes>"
      ]
     },
     "metadata": {
      "needs_background": "light"
     },
     "output_type": "display_data"
    }
   ],
   "source": [
    "# ploting correlation matrix using seaborn\n",
    "plt.figure(figsize=(10,8))\n",
    "sns.heatmap(corrm)\n",
    "plt.show()"
   ]
  },
  {
   "cell_type": "markdown",
   "metadata": {},
   "source": [
    "## Building Linear Regression Model"
   ]
  },
  {
   "cell_type": "code",
   "execution_count": 38,
   "metadata": {},
   "outputs": [],
   "source": [
    "lm = smf.ols('''Weekly_Sales ~ Store + Dept + Temperature + Fuel_Price + MarkDown1 + MarkDown2 + MarkDown3 + MarkDown4 + \n",
    "                MarkDown5 + CPI + Unemployment + Size + Weeks + IsHoliday_True + Type_B + Type_C''', train).fit()"
   ]
  },
  {
   "cell_type": "code",
   "execution_count": 39,
   "metadata": {},
   "outputs": [
    {
     "name": "stdout",
     "output_type": "stream",
     "text": [
      "                            OLS Regression Results                            \n",
      "==============================================================================\n",
      "Dep. Variable:           Weekly_Sales   R-squared:                       0.089\n",
      "Model:                            OLS   Adj. R-squared:                  0.089\n",
      "Method:                 Least Squares   F-statistic:                     2589.\n",
      "Date:                Sat, 25 Jan 2020   Prob (F-statistic):               0.00\n",
      "Time:                        12:56:02   Log-Likelihood:            -4.6882e+06\n",
      "No. Observations:              421570   AIC:                         9.376e+06\n",
      "Df Residuals:                  421553   BIC:                         9.377e+06\n",
      "Df Model:                          16                                         \n",
      "Covariance Type:            nonrobust                                         \n",
      "==================================================================================\n",
      "                     coef    std err          t      P>|t|      [0.025      0.975]\n",
      "----------------------------------------------------------------------------------\n",
      "Intercept       5047.8301    387.423     13.029      0.000    4288.493    5807.167\n",
      "Store            -88.8473      2.385    -37.248      0.000     -93.522     -84.172\n",
      "Dept              69.9980      0.834     83.921      0.000      68.363      71.633\n",
      "Temperature       18.6298      1.646     11.320      0.000      15.404      21.855\n",
      "Fuel_Price        33.0696     98.506      0.336      0.737    -160.000     226.139\n",
      "MarkDown1         -0.0604      0.015     -3.899      0.000      -0.091      -0.030\n",
      "MarkDown2         -0.2526      0.033     -7.642      0.000      -0.317      -0.188\n",
      "MarkDown3         11.1872      0.575     19.470      0.000      10.061      12.313\n",
      "MarkDown4          0.3134      0.034      9.119      0.000       0.246       0.381\n",
      "MarkDown5          0.1519      0.023      6.656      0.000       0.107       0.197\n",
      "CPI              -21.1933      0.745    -28.452      0.000     -22.653     -19.733\n",
      "Unemployment    -181.6051     18.279     -9.935      0.000    -217.432    -145.779\n",
      "Size               0.0806      0.001    106.319      0.000       0.079       0.082\n",
      "Weeks             -5.5619      1.152     -4.828      0.000      -7.820      -3.304\n",
      "IsHoliday_True   440.8210    101.218      4.355      0.000     242.436     639.206\n",
      "Type_B           268.8668     81.650      3.293      0.001     108.835     428.899\n",
      "Type_C          4512.3123    139.442     32.360      0.000    4239.011    4785.614\n",
      "==============================================================================\n",
      "Omnibus:                    80347.208   Durbin-Watson:                   1.261\n",
      "Prob(Omnibus):                  0.000   Jarque-Bera (JB):           135169.270\n",
      "Skew:                           1.299   Prob(JB):                         0.00\n",
      "Kurtosis:                       3.970   Cond. No.                     2.35e+06\n",
      "==============================================================================\n",
      "\n",
      "Warnings:\n",
      "[1] Standard Errors assume that the covariance matrix of the errors is correctly specified.\n",
      "[2] The condition number is large, 2.35e+06. This might indicate that there are\n",
      "strong multicollinearity or other numerical problems.\n"
     ]
    }
   ],
   "source": [
    "print(lm.summary())"
   ]
  },
  {
   "cell_type": "code",
   "execution_count": 40,
   "metadata": {},
   "outputs": [],
   "source": [
    "# final features after feature selection\n",
    "lm = smf.ols('''Weekly_Sales ~ Store + Dept + Temperature + MarkDown1 + MarkDown2 + MarkDown3 + MarkDown4 + \n",
    "                MarkDown5 + CPI + Unemployment + Size + Weeks + IsHoliday_True + Type_B + Type_C''', train).fit()"
   ]
  },
  {
   "cell_type": "code",
   "execution_count": 41,
   "metadata": {},
   "outputs": [
    {
     "name": "stdout",
     "output_type": "stream",
     "text": [
      "                            OLS Regression Results                            \n",
      "==============================================================================\n",
      "Dep. Variable:           Weekly_Sales   R-squared:                       0.089\n",
      "Model:                            OLS   Adj. R-squared:                  0.089\n",
      "Method:                 Least Squares   F-statistic:                     2761.\n",
      "Date:                Sat, 25 Jan 2020   Prob (F-statistic):               0.00\n",
      "Time:                        12:56:04   Log-Likelihood:            -4.6882e+06\n",
      "No. Observations:              421570   AIC:                         9.376e+06\n",
      "Df Residuals:                  421554   BIC:                         9.377e+06\n",
      "Df Model:                          15                                         \n",
      "Covariance Type:            nonrobust                                         \n",
      "==================================================================================\n",
      "                     coef    std err          t      P>|t|      [0.025      0.975]\n",
      "----------------------------------------------------------------------------------\n",
      "Intercept       5138.5004    277.760     18.500      0.000    4594.099    5682.902\n",
      "Store            -88.8165      2.384    -37.262      0.000     -93.488     -84.145\n",
      "Dept              69.9978      0.834     83.921      0.000      68.363      71.633\n",
      "Temperature       18.6676      1.642     11.370      0.000      15.450      21.886\n",
      "MarkDown1         -0.0597      0.015     -3.890      0.000      -0.090      -0.030\n",
      "MarkDown2         -0.2531      0.033     -7.665      0.000      -0.318      -0.188\n",
      "MarkDown3         11.1650      0.571     19.561      0.000      10.046      12.284\n",
      "MarkDown4          0.3118      0.034      9.161      0.000       0.245       0.379\n",
      "MarkDown5          0.1514      0.023      6.649      0.000       0.107       0.196\n",
      "CPI              -21.2631      0.715    -29.726      0.000     -22.665     -19.861\n",
      "Unemployment    -180.8490     18.140     -9.970      0.000    -216.403    -145.295\n",
      "Size               0.0807      0.001    106.592      0.000       0.079       0.082\n",
      "Weeks             -5.2564      0.707     -7.439      0.000      -6.641      -3.871\n",
      "IsHoliday_True   438.2057    100.918      4.342      0.000     240.409     636.002\n",
      "Type_B           270.6694     81.473      3.322      0.001     110.984     430.355\n",
      "Type_C          4513.0659    139.423     32.369      0.000    4239.800    4786.332\n",
      "==============================================================================\n",
      "Omnibus:                    80347.011   Durbin-Watson:                   1.261\n",
      "Prob(Omnibus):                  0.000   Jarque-Bera (JB):           135168.805\n",
      "Skew:                           1.299   Prob(JB):                         0.00\n",
      "Kurtosis:                       3.970   Cond. No.                     1.69e+06\n",
      "==============================================================================\n",
      "\n",
      "Warnings:\n",
      "[1] Standard Errors assume that the covariance matrix of the errors is correctly specified.\n",
      "[2] The condition number is large, 1.69e+06. This might indicate that there are\n",
      "strong multicollinearity or other numerical problems.\n"
     ]
    }
   ],
   "source": [
    "print(lm.summary())"
   ]
  },
  {
   "cell_type": "markdown",
   "metadata": {},
   "source": [
    "###### final features after feature selection\n",
    "Store, Dept, Temperature, MarkDown1, MarkDown2, MarkDown3, MarkDown4, MarkDown5, CPI, Unemployment, Size, Weeks, IsHoliday_True, Type_B, Type_C, Weekly_Sales"
   ]
  },
  {
   "cell_type": "code",
   "execution_count": 42,
   "metadata": {},
   "outputs": [],
   "source": [
    "train = train[['Store', 'Dept', 'Temperature', 'MarkDown1', 'MarkDown2', 'MarkDown3', 'MarkDown4', 'MarkDown5', 'CPI', \n",
    "              'Unemployment', 'Size', 'Weeks', 'IsHoliday_True', 'Type_B', 'Type_C', 'Weekly_Sales']]\n",
    "test = test[['Store', 'Dept', 'Temperature', 'MarkDown1', 'MarkDown2', 'MarkDown3', 'MarkDown4', 'MarkDown5', 'CPI', \n",
    "              'Unemployment', 'Size', 'Weeks', 'IsHoliday_True', 'Type_B', 'Type_C']]"
   ]
  },
  {
   "cell_type": "code",
   "execution_count": 43,
   "metadata": {},
   "outputs": [],
   "source": [
    "# divide the data into training and testing\n",
    "train_X = train[train.columns.difference(['Weekly_Sales'])]\n",
    "train_y = train.Weekly_Sales\n",
    "\n",
    "test_X = test"
   ]
  },
  {
   "cell_type": "markdown",
   "metadata": {},
   "source": [
    "## Decision Tree (DT)"
   ]
  },
  {
   "cell_type": "code",
   "execution_count": 44,
   "metadata": {},
   "outputs": [],
   "source": [
    "from sklearn.tree import DecisionTreeRegressor\n",
    "from sklearn.model_selection import cross_val_score"
   ]
  },
  {
   "cell_type": "code",
   "execution_count": 45,
   "metadata": {},
   "outputs": [
    {
     "data": {
      "text/plain": [
       "DecisionTreeRegressor(ccp_alpha=0.0, criterion='mse', max_depth=5,\n",
       "                      max_features=None, max_leaf_nodes=None,\n",
       "                      min_impurity_decrease=0.0, min_impurity_split=None,\n",
       "                      min_samples_leaf=1, min_samples_split=2,\n",
       "                      min_weight_fraction_leaf=0.0, presort='deprecated',\n",
       "                      random_state=345, splitter='best')"
      ]
     },
     "execution_count": 45,
     "metadata": {},
     "output_type": "execute_result"
    }
   ],
   "source": [
    "tree_reg = DecisionTreeRegressor(max_depth = 5, random_state = 345)\n",
    "tree_reg.fit(train_X, train_y)"
   ]
  },
  {
   "cell_type": "code",
   "execution_count": 46,
   "metadata": {},
   "outputs": [],
   "source": [
    "predict_X = tree_reg.predict(train_X)"
   ]
  },
  {
   "cell_type": "code",
   "execution_count": 47,
   "metadata": {},
   "outputs": [
    {
     "name": "stdout",
     "output_type": "stream",
     "text": [
      "Mean Absolute Error: 8764.190635500425\n",
      "Mean Squared Error: 157983222.224655\n",
      "Root Mean Squared Error: 12569.137688189076\n"
     ]
    }
   ],
   "source": [
    "print('Mean Absolute Error:', metrics.mean_absolute_error(train_y, predict_X))\n",
    "print('Mean Squared Error:', metrics.mean_squared_error(train_y, predict_X))\n",
    "print('Root Mean Squared Error:', np.sqrt(metrics.mean_squared_error(train_y, predict_X)))"
   ]
  },
  {
   "cell_type": "code",
   "execution_count": 48,
   "metadata": {},
   "outputs": [
    {
     "name": "stdout",
     "output_type": "stream",
     "text": [
      "R-squared for Train: 0.4617650229161202\n"
     ]
    }
   ],
   "source": [
    "print(\"R-squared for Train:\",tree_reg.score(train_X, train_y))"
   ]
  },
  {
   "cell_type": "code",
   "execution_count": 49,
   "metadata": {},
   "outputs": [
    {
     "data": {
      "text/plain": [
       "13112.846453498689"
      ]
     },
     "execution_count": 49,
     "metadata": {},
     "output_type": "execute_result"
    }
   ],
   "source": [
    "scores = cross_val_score(tree_reg, train_X, train_y, cv=14, scoring='neg_mean_squared_error')\n",
    "np.mean(np.sqrt(-scores))"
   ]
  },
  {
   "cell_type": "markdown",
   "metadata": {},
   "source": [
    "### Tuning a Decision Tree Model"
   ]
  },
  {
   "cell_type": "code",
   "execution_count": 50,
   "metadata": {},
   "outputs": [],
   "source": [
    "# list of values to try\n",
    "max_depth_range = range(8, 13)\n",
    "\n",
    "# list to store the average RMSE for each value of max_depth\n",
    "RMSE_scores = []\n",
    "\n",
    "\n",
    "for depth in max_depth_range:\n",
    "    tree_reg = DecisionTreeRegressor(max_depth = depth, random_state = 345)\n",
    "    \n",
    "    MSE_scores = cross_val_score(tree_reg, train_X, train_y, cv = 14, scoring = 'neg_mean_squared_error', verbose = 0)\n",
    "    \n",
    "    RMSE_scores.append(np.mean(np.sqrt(-MSE_scores)))"
   ]
  },
  {
   "cell_type": "code",
   "execution_count": 51,
   "metadata": {},
   "outputs": [
    {
     "name": "stdout",
     "output_type": "stream",
     "text": [
      "[10478.843096818175, 10388.367394458968, 10096.124821150876, 9978.898974186091, 10119.10671603001]\n"
     ]
    }
   ],
   "source": [
    "print(RMSE_scores)"
   ]
  },
  {
   "cell_type": "code",
   "execution_count": 52,
   "metadata": {},
   "outputs": [
    {
     "data": {
      "text/plain": [
       "Text(0, 0.5, 'RMSE (lower is better)')"
      ]
     },
     "execution_count": 52,
     "metadata": {},
     "output_type": "execute_result"
    },
    {
     "data": {
      "image/png": "[encoded data removed]",
      "text/plain": [
       "<Figure size 432x288 with 1 Axes>"
      ]
     },
     "metadata": {
      "needs_background": "light"
     },
     "output_type": "display_data"
    }
   ],
   "source": [
    "# plot max_depth (x-axis) versus RMSE (y-axis)\n",
    "plt.plot(max_depth_range, RMSE_scores)\n",
    "plt.xlabel('max_depth')\n",
    "plt.ylabel('RMSE (lower is better)')"
   ]
  },
  {
   "cell_type": "markdown",
   "metadata": {},
   "source": [
    "### Final Decision Tree Model"
   ]
  },
  {
   "cell_type": "code",
   "execution_count": 53,
   "metadata": {},
   "outputs": [
    {
     "data": {
      "text/plain": [
       "DecisionTreeRegressor(ccp_alpha=0.0, criterion='mse', max_depth=11,\n",
       "                      max_features=None, max_leaf_nodes=None,\n",
       "                      min_impurity_decrease=0.0, min_impurity_split=None,\n",
       "                      min_samples_leaf=1, min_samples_split=2,\n",
       "                      min_weight_fraction_leaf=0.0, presort='deprecated',\n",
       "                      random_state=345, splitter='best')"
      ]
     },
     "execution_count": 53,
     "metadata": {},
     "output_type": "execute_result"
    }
   ],
   "source": [
    "tree_reg = DecisionTreeRegressor(max_depth = 11, random_state = 345)\n",
    "tree_reg.fit(train_X, train_y)"
   ]
  },
  {
   "cell_type": "code",
   "execution_count": 54,
   "metadata": {},
   "outputs": [
    {
     "data": {
      "text/plain": [
       "array([1.66630158e-02, 7.18180804e-01, 5.12826057e-05, 1.10712987e-04,\n",
       "       8.12297947e-05, 1.56795110e-03, 9.90376186e-05, 1.04911012e-04,\n",
       "       1.94581020e-01, 3.92294782e-02, 2.96221881e-03, 1.45621139e-02,\n",
       "       3.63112429e-03, 5.68341097e-03, 2.49168951e-03])"
      ]
     },
     "execution_count": 54,
     "metadata": {},
     "output_type": "execute_result"
    }
   ],
   "source": [
    "tree_reg.feature_importances_"
   ]
  },
  {
   "cell_type": "code",
   "execution_count": 55,
   "metadata": {},
   "outputs": [
    {
     "data": {
      "text/html": [
       "<div>\n",
       "<style scoped>\n",
       "    .dataframe tbody tr th:only-of-type {\n",
       "        vertical-align: middle;\n",
       "    }\n",
       "\n",
       "    .dataframe tbody tr th {\n",
       "        vertical-align: top;\n",
       "    }\n",
       "\n",
       "    .dataframe thead th {\n",
       "        text-align: right;\n",
       "    }\n",
       "</style>\n",
       "<table border=\"1\" class=\"dataframe\">\n",
       "  <thead>\n",
       "    <tr style=\"text-align: right;\">\n",
       "      <th></th>\n",
       "      <th>feature</th>\n",
       "      <th>importance</th>\n",
       "    </tr>\n",
       "  </thead>\n",
       "  <tbody>\n",
       "    <tr>\n",
       "      <td>0</td>\n",
       "      <td>CPI</td>\n",
       "      <td>0.016663</td>\n",
       "    </tr>\n",
       "    <tr>\n",
       "      <td>1</td>\n",
       "      <td>Dept</td>\n",
       "      <td>0.718181</td>\n",
       "    </tr>\n",
       "    <tr>\n",
       "      <td>2</td>\n",
       "      <td>IsHoliday_True</td>\n",
       "      <td>0.000051</td>\n",
       "    </tr>\n",
       "    <tr>\n",
       "      <td>3</td>\n",
       "      <td>MarkDown1</td>\n",
       "      <td>0.000111</td>\n",
       "    </tr>\n",
       "    <tr>\n",
       "      <td>4</td>\n",
       "      <td>MarkDown2</td>\n",
       "      <td>0.000081</td>\n",
       "    </tr>\n",
       "    <tr>\n",
       "      <td>5</td>\n",
       "      <td>MarkDown3</td>\n",
       "      <td>0.001568</td>\n",
       "    </tr>\n",
       "    <tr>\n",
       "      <td>6</td>\n",
       "      <td>MarkDown4</td>\n",
       "      <td>0.000099</td>\n",
       "    </tr>\n",
       "    <tr>\n",
       "      <td>7</td>\n",
       "      <td>MarkDown5</td>\n",
       "      <td>0.000105</td>\n",
       "    </tr>\n",
       "    <tr>\n",
       "      <td>8</td>\n",
       "      <td>Size</td>\n",
       "      <td>0.194581</td>\n",
       "    </tr>\n",
       "    <tr>\n",
       "      <td>9</td>\n",
       "      <td>Store</td>\n",
       "      <td>0.039229</td>\n",
       "    </tr>\n",
       "    <tr>\n",
       "      <td>10</td>\n",
       "      <td>Temperature</td>\n",
       "      <td>0.002962</td>\n",
       "    </tr>\n",
       "    <tr>\n",
       "      <td>11</td>\n",
       "      <td>Type_B</td>\n",
       "      <td>0.014562</td>\n",
       "    </tr>\n",
       "    <tr>\n",
       "      <td>12</td>\n",
       "      <td>Type_C</td>\n",
       "      <td>0.003631</td>\n",
       "    </tr>\n",
       "    <tr>\n",
       "      <td>13</td>\n",
       "      <td>Unemployment</td>\n",
       "      <td>0.005683</td>\n",
       "    </tr>\n",
       "    <tr>\n",
       "      <td>14</td>\n",
       "      <td>Weeks</td>\n",
       "      <td>0.002492</td>\n",
       "    </tr>\n",
       "  </tbody>\n",
       "</table>\n",
       "</div>"
      ],
      "text/plain": [
       "           feature  importance\n",
       "0              CPI    0.016663\n",
       "1             Dept    0.718181\n",
       "2   IsHoliday_True    0.000051\n",
       "3        MarkDown1    0.000111\n",
       "4        MarkDown2    0.000081\n",
       "5        MarkDown3    0.001568\n",
       "6        MarkDown4    0.000099\n",
       "7        MarkDown5    0.000105\n",
       "8             Size    0.194581\n",
       "9            Store    0.039229\n",
       "10     Temperature    0.002962\n",
       "11          Type_B    0.014562\n",
       "12          Type_C    0.003631\n",
       "13    Unemployment    0.005683\n",
       "14           Weeks    0.002492"
      ]
     },
     "execution_count": 55,
     "metadata": {},
     "output_type": "execute_result"
    }
   ],
   "source": [
    "# \"Gini importance\" of each feature: the (normalized) total reduction of error brought by that feature\n",
    "pd.DataFrame({'feature' : train_X.columns, 'importance' : tree_reg.feature_importances_})"
   ]
  },
  {
   "cell_type": "markdown",
   "metadata": {},
   "source": [
    "### Making predictions "
   ]
  },
  {
   "cell_type": "code",
   "execution_count": 56,
   "metadata": {},
   "outputs": [],
   "source": [
    "predict_X = tree_reg.predict(train_X)"
   ]
  },
  {
   "cell_type": "code",
   "execution_count": 57,
   "metadata": {},
   "outputs": [
    {
     "data": {
      "text/html": [
       "<div>\n",
       "<style scoped>\n",
       "    .dataframe tbody tr th:only-of-type {\n",
       "        vertical-align: middle;\n",
       "    }\n",
       "\n",
       "    .dataframe tbody tr th {\n",
       "        vertical-align: top;\n",
       "    }\n",
       "\n",
       "    .dataframe thead th {\n",
       "        text-align: right;\n",
       "    }\n",
       "</style>\n",
       "<table border=\"1\" class=\"dataframe\">\n",
       "  <thead>\n",
       "    <tr style=\"text-align: right;\">\n",
       "      <th></th>\n",
       "      <th>Actual</th>\n",
       "      <th>Predicted</th>\n",
       "      <th>Week</th>\n",
       "    </tr>\n",
       "  </thead>\n",
       "  <tbody>\n",
       "    <tr>\n",
       "      <td>0</td>\n",
       "      <td>24924.50</td>\n",
       "      <td>24343.159383</td>\n",
       "      <td>72.0</td>\n",
       "    </tr>\n",
       "    <tr>\n",
       "      <td>1</td>\n",
       "      <td>50605.27</td>\n",
       "      <td>24343.159383</td>\n",
       "      <td>72.0</td>\n",
       "    </tr>\n",
       "    <tr>\n",
       "      <td>2</td>\n",
       "      <td>13740.12</td>\n",
       "      <td>24343.159383</td>\n",
       "      <td>72.0</td>\n",
       "    </tr>\n",
       "    <tr>\n",
       "      <td>3</td>\n",
       "      <td>39954.04</td>\n",
       "      <td>24343.159383</td>\n",
       "      <td>72.0</td>\n",
       "    </tr>\n",
       "    <tr>\n",
       "      <td>4</td>\n",
       "      <td>32229.38</td>\n",
       "      <td>24343.159383</td>\n",
       "      <td>72.0</td>\n",
       "    </tr>\n",
       "  </tbody>\n",
       "</table>\n",
       "</div>"
      ],
      "text/plain": [
       "     Actual     Predicted  Week\n",
       "0  24924.50  24343.159383  72.0\n",
       "1  50605.27  24343.159383  72.0\n",
       "2  13740.12  24343.159383  72.0\n",
       "3  39954.04  24343.159383  72.0\n",
       "4  32229.38  24343.159383  72.0"
      ]
     },
     "execution_count": 57,
     "metadata": {},
     "output_type": "execute_result"
    }
   ],
   "source": [
    "dt = pd.DataFrame({'Actual' : train_y, 'Predicted' : predict_X, 'Week' : train.Weeks})\n",
    "dt.head()"
   ]
  },
  {
   "cell_type": "code",
   "execution_count": 58,
   "metadata": {},
   "outputs": [],
   "source": [
    "dt = dt.groupby('Week').apply(lambda x : np.mean(x))"
   ]
  },
  {
   "cell_type": "code",
   "execution_count": 59,
   "metadata": {},
   "outputs": [
    {
     "data": {
      "image/png": "[encoded data removed]",
      "text/plain": [
       "<Figure size 432x288 with 1 Axes>"
      ]
     },
     "metadata": {
      "needs_background": "light"
     },
     "output_type": "display_data"
    }
   ],
   "source": [
    "dt.plot(kind = 'line', x = 'Week', y = 'Actual', color = 'red', ax = plt.gca())\n",
    "dt.plot(kind = 'line', x = 'Week', y = 'Predicted', color = 'green', ax = plt.gca())\n",
    "plt.xlabel('Week Number')\n",
    "plt.ylabel('Weekly Sales')\n",
    "plt.title('Comparison of Predicted and Actual Sales in Decision Tree')\n",
    "plt.show()"
   ]
  },
  {
   "cell_type": "code",
   "execution_count": 60,
   "metadata": {},
   "outputs": [
    {
     "name": "stdout",
     "output_type": "stream",
     "text": [
      "Mean Absolute Error: 4202.486864587649\n",
      "Mean Squared Error: 56520497.18126118\n",
      "Root Mean Squared Error: 7518.01151776593\n"
     ]
    }
   ],
   "source": [
    "print('Mean Absolute Error:', metrics.mean_absolute_error(train_y, predict_X))\n",
    "print('Mean Squared Error:', metrics.mean_squared_error(train_y, predict_X))\n",
    "print('Root Mean Squared Error:', np.sqrt(metrics.mean_squared_error(train_y, predict_X)))"
   ]
  },
  {
   "cell_type": "code",
   "execution_count": 61,
   "metadata": {},
   "outputs": [
    {
     "name": "stdout",
     "output_type": "stream",
     "text": [
      "R-squared for Train: 0.8074396250643252\n"
     ]
    }
   ],
   "source": [
    "print(\"R-squared for Train:\",tree_reg.score(train_X, train_y))"
   ]
  },
  {
   "cell_type": "markdown",
   "metadata": {},
   "source": [
    "##### Prediction on test data using Decision Tree Model"
   ]
  },
  {
   "cell_type": "code",
   "execution_count": 62,
   "metadata": {},
   "outputs": [],
   "source": [
    "DT_Pred_Output = pd.read_csv('samplesubmission.csv')\n",
    "DT_Pred_Output['Weekly_Sales'] = tree_reg.predict(test_X)\n",
    "DT_Pred_Output.to_csv('DT_Pred_Output.csv')"
   ]
  },
  {
   "cell_type": "markdown",
   "metadata": {},
   "source": [
    "## Random Forest (RF)"
   ]
  },
  {
   "cell_type": "code",
   "execution_count": 63,
   "metadata": {},
   "outputs": [],
   "source": [
    "from sklearn.ensemble import RandomForestRegressor\n",
    "from sklearn.model_selection import GridSearchCV"
   ]
  },
  {
   "cell_type": "code",
   "execution_count": 64,
   "metadata": {},
   "outputs": [],
   "source": [
    "RF = RandomForestRegressor(max_depth = 10, n_estimators = 25, random_state = 0)  \n",
    "RF.fit(train_X, train_y)  \n",
    "predict_X = RF.predict(train_X) "
   ]
  },
  {
   "cell_type": "code",
   "execution_count": 65,
   "metadata": {},
   "outputs": [
    {
     "name": "stdout",
     "output_type": "stream",
     "text": [
      "Mean Absolute Error: 4511.606738150535\n",
      "Mean Squared Error: 61136353.0974947\n",
      "Root Mean Squared Error: 7818.973915898089\n"
     ]
    }
   ],
   "source": [
    "print('Mean Absolute Error:', metrics.mean_absolute_error(train_y, predict_X))  \n",
    "print('Mean Squared Error:', metrics.mean_squared_error(train_y, predict_X))  \n",
    "print('Root Mean Squared Error:', np.sqrt(metrics.mean_squared_error(train_y, predict_X)))"
   ]
  },
  {
   "cell_type": "code",
   "execution_count": 66,
   "metadata": {},
   "outputs": [
    {
     "name": "stdout",
     "output_type": "stream",
     "text": [
      "R-squared for Train: 0.7917138089408664\n"
     ]
    }
   ],
   "source": [
    "print(\"R-squared for Train:\",RF.score(train_X, train_y))"
   ]
  },
  {
   "cell_type": "markdown",
   "metadata": {},
   "source": [
    "### Tuning a Random Forest Model"
   ]
  },
  {
   "cell_type": "code",
   "execution_count": 67,
   "metadata": {},
   "outputs": [],
   "source": [
    "param_grid={'max_depth': range(19, 25), 'n_estimators': (30, 50)}"
   ]
  },
  {
   "cell_type": "code",
   "execution_count": 68,
   "metadata": {},
   "outputs": [],
   "source": [
    "gscv_rf = GridSearchCV(estimator = RandomForestRegressor(), \n",
    "                       param_grid = param_grid, \n",
    "                       cv = 5, \n",
    "                       verbose = 0, \n",
    "                       n_jobs = -1)\n",
    "    \n",
    "gscv_result = gscv_rf.fit(train_X, train_y)"
   ]
  },
  {
   "cell_type": "markdown",
   "metadata": {},
   "source": [
    "### Building Final Random Forest Model"
   ]
  },
  {
   "cell_type": "code",
   "execution_count": 69,
   "metadata": {},
   "outputs": [],
   "source": [
    "RF = RandomForestRegressor(max_depth = 25, n_estimators = 50, random_state = 0)\n",
    "RF.fit(train_X, train_y)\n",
    "predict_X = RF.predict(train_X)"
   ]
  },
  {
   "cell_type": "code",
   "execution_count": 70,
   "metadata": {},
   "outputs": [
    {
     "data": {
      "text/html": [
       "<div>\n",
       "<style scoped>\n",
       "    .dataframe tbody tr th:only-of-type {\n",
       "        vertical-align: middle;\n",
       "    }\n",
       "\n",
       "    .dataframe tbody tr th {\n",
       "        vertical-align: top;\n",
       "    }\n",
       "\n",
       "    .dataframe thead th {\n",
       "        text-align: right;\n",
       "    }\n",
       "</style>\n",
       "<table border=\"1\" class=\"dataframe\">\n",
       "  <thead>\n",
       "    <tr style=\"text-align: right;\">\n",
       "      <th></th>\n",
       "      <th>Actual</th>\n",
       "      <th>Predicted</th>\n",
       "      <th>Week</th>\n",
       "    </tr>\n",
       "  </thead>\n",
       "  <tbody>\n",
       "    <tr>\n",
       "      <td>0</td>\n",
       "      <td>24924.50</td>\n",
       "      <td>32541.278302</td>\n",
       "      <td>72.0</td>\n",
       "    </tr>\n",
       "    <tr>\n",
       "      <td>1</td>\n",
       "      <td>50605.27</td>\n",
       "      <td>32541.278302</td>\n",
       "      <td>72.0</td>\n",
       "    </tr>\n",
       "    <tr>\n",
       "      <td>2</td>\n",
       "      <td>13740.12</td>\n",
       "      <td>32541.278302</td>\n",
       "      <td>72.0</td>\n",
       "    </tr>\n",
       "    <tr>\n",
       "      <td>3</td>\n",
       "      <td>39954.04</td>\n",
       "      <td>32541.278302</td>\n",
       "      <td>72.0</td>\n",
       "    </tr>\n",
       "    <tr>\n",
       "      <td>4</td>\n",
       "      <td>32229.38</td>\n",
       "      <td>30856.082127</td>\n",
       "      <td>72.0</td>\n",
       "    </tr>\n",
       "  </tbody>\n",
       "</table>\n",
       "</div>"
      ],
      "text/plain": [
       "     Actual     Predicted  Week\n",
       "0  24924.50  32541.278302  72.0\n",
       "1  50605.27  32541.278302  72.0\n",
       "2  13740.12  32541.278302  72.0\n",
       "3  39954.04  32541.278302  72.0\n",
       "4  32229.38  30856.082127  72.0"
      ]
     },
     "execution_count": 70,
     "metadata": {},
     "output_type": "execute_result"
    }
   ],
   "source": [
    "dt = pd.DataFrame({ 'Actual' : train_y, 'Predicted' : predict_X, 'Week' : train.Weeks})\n",
    "dt.head()"
   ]
  },
  {
   "cell_type": "code",
   "execution_count": 71,
   "metadata": {},
   "outputs": [],
   "source": [
    "dt = dt.groupby('Week').apply(lambda x : np.mean(x))"
   ]
  },
  {
   "cell_type": "code",
   "execution_count": 72,
   "metadata": {},
   "outputs": [
    {
     "data": {
      "image/png": "[encoded data removed]",
      "text/plain": [
       "<Figure size 432x288 with 1 Axes>"
      ]
     },
     "metadata": {
      "needs_background": "light"
     },
     "output_type": "display_data"
    }
   ],
   "source": [
    "dt.plot(kind = 'line', x = 'Week', y = 'Actual', color = 'red', ax = plt.gca())\n",
    "dt.plot(kind = 'line', x = 'Week', y = 'Predicted', color = 'green', ax = plt.gca())\n",
    "plt.xlabel('Week Number')\n",
    "plt.ylabel('Weekly Sales')\n",
    "plt.title('Comparison of Predicted and Actual Sales in Decision Tree')\n",
    "plt.show()"
   ]
  },
  {
   "cell_type": "code",
   "execution_count": 73,
   "metadata": {},
   "outputs": [
    {
     "name": "stdout",
     "output_type": "stream",
     "text": [
      "Mean Absolute Error: 2004.9195838665144\n",
      "Mean Squared Error: 32195153.57863554\n",
      "Root Mean Squared Error: 5674.077332803593\n"
     ]
    }
   ],
   "source": [
    "print('Mean Absolute Error:', metrics.mean_absolute_error(train_y, predict_X))\n",
    "print('Mean Squared Error:', metrics.mean_squared_error(train_y, predict_X))\n",
    "print('Root Mean Squared Error:', np.sqrt(metrics.mean_squared_error(train_y, predict_X)))"
   ]
  },
  {
   "cell_type": "code",
   "execution_count": 74,
   "metadata": {},
   "outputs": [
    {
     "name": "stdout",
     "output_type": "stream",
     "text": [
      "R-squared for Train: 0.8903139364763218\n"
     ]
    }
   ],
   "source": [
    "print(\"R-squared for Train:\",RF.score(train_X, train_y))"
   ]
  },
  {
   "cell_type": "markdown",
   "metadata": {},
   "source": [
    "##### Prediction on test data using Random Forest Model"
   ]
  },
  {
   "cell_type": "code",
   "execution_count": 75,
   "metadata": {},
   "outputs": [],
   "source": [
    "RF_Pred_Output = pd.read_csv('samplesubmission.csv')\n",
    "RF_Pred_Output['Weekly_Sales'] = RF.predict(test_X)\n",
    "RF_Pred_Output.to_csv('RF_Pred_Output.csv')"
   ]
  },
  {
   "cell_type": "markdown",
   "metadata": {},
   "source": [
    "## Gradient Boosting (GBM)"
   ]
  },
  {
   "cell_type": "code",
   "execution_count": 76,
   "metadata": {},
   "outputs": [],
   "source": [
    "from sklearn.ensemble import GradientBoostingRegressor"
   ]
  },
  {
   "cell_type": "code",
   "execution_count": 77,
   "metadata": {},
   "outputs": [],
   "source": [
    "GBMR = GradientBoostingRegressor()\n",
    "GBMR.fit(train_X, train_y)\n",
    "predict_X = GBMR.predict(train_X)"
   ]
  },
  {
   "cell_type": "code",
   "execution_count": 78,
   "metadata": {},
   "outputs": [
    {
     "name": "stdout",
     "output_type": "stream",
     "text": [
      "Mean Absolute Error: 6441.464455784841\n",
      "Mean Squared Error: 89330502.45081581\n",
      "Root Mean Squared Error: 9451.481495025835\n"
     ]
    }
   ],
   "source": [
    "print('Mean Absolute Error:', metrics.mean_absolute_error(train_y, predict_X))  \n",
    "print('Mean Squared Error:', metrics.mean_squared_error(train_y, predict_X))  \n",
    "print('Root Mean Squared Error:', np.sqrt(metrics.mean_squared_error(train_y, predict_X)))"
   ]
  },
  {
   "cell_type": "code",
   "execution_count": 79,
   "metadata": {},
   "outputs": [
    {
     "name": "stdout",
     "output_type": "stream",
     "text": [
      "R-squared for Train: 0.6956588157751679\n"
     ]
    }
   ],
   "source": [
    "print(\"R-squared for Train:\",GBMR.score(train_X, train_y))"
   ]
  },
  {
   "cell_type": "markdown",
   "metadata": {},
   "source": [
    "### Tuning a Gradient Boosting Model"
   ]
  },
  {
   "cell_type": "code",
   "execution_count": 80,
   "metadata": {},
   "outputs": [],
   "source": [
    "param_grid={'learning_rate' : [0.001, 0.01],\n",
    "            'max_depth' : [5, 6]}"
   ]
  },
  {
   "cell_type": "code",
   "execution_count": 81,
   "metadata": {},
   "outputs": [],
   "source": [
    "gscv_gbmr = GridSearchCV(estimator = GradientBoostingRegressor(), \n",
    "                        param_grid = param_grid, \n",
    "                        cv = 5,\n",
    "                        verbose = True, n_jobs = -1)"
   ]
  },
  {
   "cell_type": "code",
   "execution_count": 82,
   "metadata": {},
   "outputs": [
    {
     "name": "stdout",
     "output_type": "stream",
     "text": [
      "Fitting 5 folds for each of 4 candidates, totalling 20 fits\n"
     ]
    },
    {
     "name": "stderr",
     "output_type": "stream",
     "text": [
      "[Parallel(n_jobs=-1)]: Using backend LokyBackend with 4 concurrent workers.\n",
      "[Parallel(n_jobs=-1)]: Done  20 out of  20 | elapsed: 16.3min finished\n"
     ]
    }
   ],
   "source": [
    "gscv_result = gscv_gbmr.fit(train_X, train_y)"
   ]
  },
  {
   "cell_type": "code",
   "execution_count": 83,
   "metadata": {},
   "outputs": [
    {
     "data": {
      "text/plain": [
       "0.5032936370937218"
      ]
     },
     "execution_count": 83,
     "metadata": {},
     "output_type": "execute_result"
    }
   ],
   "source": [
    "gscv_result.best_score_"
   ]
  },
  {
   "cell_type": "code",
   "execution_count": 84,
   "metadata": {},
   "outputs": [
    {
     "data": {
      "text/plain": [
       "{'learning_rate': 0.01, 'max_depth': 6}"
      ]
     },
     "execution_count": 84,
     "metadata": {},
     "output_type": "execute_result"
    }
   ],
   "source": [
    "gscv_result.best_params_"
   ]
  },
  {
   "cell_type": "markdown",
   "metadata": {},
   "source": [
    "### Final Gradient Boosting Model"
   ]
  },
  {
   "cell_type": "code",
   "execution_count": 85,
   "metadata": {},
   "outputs": [
    {
     "data": {
      "text/plain": [
       "GradientBoostingRegressor(alpha=0.9, ccp_alpha=0.0, criterion='friedman_mse',\n",
       "                          init=None, learning_rate=0.01, loss='ls', max_depth=6,\n",
       "                          max_features=None, max_leaf_nodes=None,\n",
       "                          min_impurity_decrease=0.0, min_impurity_split=None,\n",
       "                          min_samples_leaf=1, min_samples_split=2,\n",
       "                          min_weight_fraction_leaf=0.0, n_estimators=100,\n",
       "                          n_iter_no_change=None, presort='deprecated',\n",
       "                          random_state=None, subsample=1.0, tol=0.0001,\n",
       "                          validation_fraction=0.1, verbose=0, warm_start=False)"
      ]
     },
     "execution_count": 85,
     "metadata": {},
     "output_type": "execute_result"
    }
   ],
   "source": [
    "gscv_gbmr = GradientBoostingRegressor(learning_rate = 0.01, max_depth = 6)\n",
    "gscv_gbmr.fit(train_X, train_y)"
   ]
  },
  {
   "cell_type": "code",
   "execution_count": 86,
   "metadata": {},
   "outputs": [],
   "source": [
    "predict_X = gscv_gbmr.predict(train_X)"
   ]
  },
  {
   "cell_type": "code",
   "execution_count": 87,
   "metadata": {},
   "outputs": [
    {
     "data": {
      "text/html": [
       "<div>\n",
       "<style scoped>\n",
       "    .dataframe tbody tr th:only-of-type {\n",
       "        vertical-align: middle;\n",
       "    }\n",
       "\n",
       "    .dataframe tbody tr th {\n",
       "        vertical-align: top;\n",
       "    }\n",
       "\n",
       "    .dataframe thead th {\n",
       "        text-align: right;\n",
       "    }\n",
       "</style>\n",
       "<table border=\"1\" class=\"dataframe\">\n",
       "  <thead>\n",
       "    <tr style=\"text-align: right;\">\n",
       "      <th></th>\n",
       "      <th>Actual</th>\n",
       "      <th>Predicted</th>\n",
       "      <th>Week</th>\n",
       "    </tr>\n",
       "  </thead>\n",
       "  <tbody>\n",
       "    <tr>\n",
       "      <td>0</td>\n",
       "      <td>24924.50</td>\n",
       "      <td>19326.207688</td>\n",
       "      <td>72.0</td>\n",
       "    </tr>\n",
       "    <tr>\n",
       "      <td>1</td>\n",
       "      <td>50605.27</td>\n",
       "      <td>19326.207688</td>\n",
       "      <td>72.0</td>\n",
       "    </tr>\n",
       "    <tr>\n",
       "      <td>2</td>\n",
       "      <td>13740.12</td>\n",
       "      <td>19326.207688</td>\n",
       "      <td>72.0</td>\n",
       "    </tr>\n",
       "    <tr>\n",
       "      <td>3</td>\n",
       "      <td>39954.04</td>\n",
       "      <td>19326.207688</td>\n",
       "      <td>72.0</td>\n",
       "    </tr>\n",
       "    <tr>\n",
       "      <td>4</td>\n",
       "      <td>32229.38</td>\n",
       "      <td>18999.743533</td>\n",
       "      <td>72.0</td>\n",
       "    </tr>\n",
       "  </tbody>\n",
       "</table>\n",
       "</div>"
      ],
      "text/plain": [
       "     Actual     Predicted  Week\n",
       "0  24924.50  19326.207688  72.0\n",
       "1  50605.27  19326.207688  72.0\n",
       "2  13740.12  19326.207688  72.0\n",
       "3  39954.04  19326.207688  72.0\n",
       "4  32229.38  18999.743533  72.0"
      ]
     },
     "execution_count": 87,
     "metadata": {},
     "output_type": "execute_result"
    }
   ],
   "source": [
    "dt = pd.DataFrame({ 'Actual' : train_y, 'Predicted' : predict_X, 'Week' : train.Weeks})\n",
    "dt.head()"
   ]
  },
  {
   "cell_type": "code",
   "execution_count": 88,
   "metadata": {},
   "outputs": [],
   "source": [
    "dt = dt.groupby('Week').apply(lambda x : np.mean(x))"
   ]
  },
  {
   "cell_type": "code",
   "execution_count": 89,
   "metadata": {},
   "outputs": [
    {
     "data": {
      "image/png": "[encoded data removed]",
      "text/plain": [
       "<Figure size 432x288 with 1 Axes>"
      ]
     },
     "metadata": {
      "needs_background": "light"
     },
     "output_type": "display_data"
    }
   ],
   "source": [
    "dt.plot(kind = 'line', x = 'Week', y = 'Actual', color = 'red', ax = plt.gca())\n",
    "dt.plot(kind = 'line', x = 'Week', y = 'Predicted', color = 'green', ax = plt.gca())\n",
    "plt.xlabel('Week Number')\n",
    "plt.ylabel('Weekly Sales')\n",
    "plt.title('Comparison of Predicted and Actual Sales in Decision Tree')\n",
    "plt.show()"
   ]
  },
  {
   "cell_type": "code",
   "execution_count": 90,
   "metadata": {},
   "outputs": [
    {
     "name": "stdout",
     "output_type": "stream",
     "text": [
      "Mean Absolute Error: 8524.362915281685\n",
      "Mean Squared Error: 129274485.55590406\n",
      "Root Mean Squared Error: 11369.89382342263\n"
     ]
    }
   ],
   "source": [
    "print('Mean Absolute Error:', metrics.mean_absolute_error(train_y, predict_X))\n",
    "print('Mean Squared Error:', metrics.mean_squared_error(train_y, predict_X))\n",
    "print('Root Mean Squared Error:', np.sqrt(metrics.mean_squared_error(train_y, predict_X)))"
   ]
  },
  {
   "cell_type": "code",
   "execution_count": 91,
   "metadata": {},
   "outputs": [
    {
     "name": "stdout",
     "output_type": "stream",
     "text": [
      "R-squared for Train: 0.5595731699169404\n"
     ]
    }
   ],
   "source": [
    "print(\"R-squared for Train:\",gscv_gbmr.score(train_X, train_y))"
   ]
  },
  {
   "cell_type": "markdown",
   "metadata": {},
   "source": [
    "##### Prediction on test data using Gradient Boosting Model"
   ]
  },
  {
   "cell_type": "code",
   "execution_count": 92,
   "metadata": {},
   "outputs": [],
   "source": [
    "GBM_Pred_Output = pd.read_csv('samplesubmission.csv')\n",
    "GBM_Pred_Output['Weekly_Sales'] = gscv_gbmr.predict(test_X)\n",
    "GBM_Pred_Output.to_csv('GBM_Pred_Output.csv')"
   ]
  },
  {
   "cell_type": "markdown",
   "metadata": {},
   "source": [
    "## Support Vector Regression (SVR)"
   ]
  },
  {
   "cell_type": "code",
   "execution_count": 93,
   "metadata": {},
   "outputs": [],
   "source": [
    "# from sklearn.svm import SVR"
   ]
  },
  {
   "cell_type": "code",
   "execution_count": 94,
   "metadata": {},
   "outputs": [],
   "source": [
    "# svr = SVR(gamma = 'scale')\n",
    "# svr.fit(train_X, train_y)\n",
    "# predict_X = svr.predict(train_X)"
   ]
  },
  {
   "cell_type": "code",
   "execution_count": 95,
   "metadata": {},
   "outputs": [],
   "source": [
    "# print('Mean Absolute Error:', metrics.mean_absolute_error(train_y, predict_X))\n",
    "# print('Mean Squared Error:', metrics.mean_squared_error(train_y, predict_X))\n",
    "# print('Root Mean Squared Error:', np.sqrt(metrics.mean_squared_error(train_y, predict_X)))"
   ]
  },
  {
   "cell_type": "code",
   "execution_count": 96,
   "metadata": {},
   "outputs": [],
   "source": [
    "# print(\"R-squared for Train:\",svr.score(train_X, train_y))"
   ]
  },
  {
   "cell_type": "markdown",
   "metadata": {},
   "source": [
    "### Tuning a SVR Model"
   ]
  },
  {
   "cell_type": "code",
   "execution_count": 97,
   "metadata": {},
   "outputs": [],
   "source": [
    "# para = {'C' : [5, 10],\n",
    "#               'gamma': [10 ** x for x in range(-8, -5)]}"
   ]
  },
  {
   "cell_type": "code",
   "execution_count": 98,
   "metadata": {},
   "outputs": [],
   "source": [
    "# svr = GridSearchCV(svr ,para, cv = 5)\n",
    "# grid_result = svr.fit(train_X, train_y)"
   ]
  },
  {
   "cell_type": "code",
   "execution_count": 99,
   "metadata": {},
   "outputs": [],
   "source": [
    "# svr.best_score_"
   ]
  },
  {
   "cell_type": "code",
   "execution_count": 100,
   "metadata": {},
   "outputs": [],
   "source": [
    "# svr.best_score_"
   ]
  },
  {
   "cell_type": "markdown",
   "metadata": {},
   "source": [
    "### Final SVR Model"
   ]
  },
  {
   "cell_type": "code",
   "execution_count": 101,
   "metadata": {},
   "outputs": [],
   "source": [
    "# svr = SVR(C = 5, gamma = 1e-8)\n",
    "# svr.fit(train_X, train_y)\n",
    "# predict_X = svr.predict(train_X)"
   ]
  },
  {
   "cell_type": "code",
   "execution_count": 102,
   "metadata": {},
   "outputs": [],
   "source": [
    "# dt = pd.DataFrame({ 'Actual' : train_y, 'Predicted' : predict_X, 'Week' : train.Weeks})\n",
    "# dt.head()"
   ]
  },
  {
   "cell_type": "code",
   "execution_count": 103,
   "metadata": {},
   "outputs": [],
   "source": [
    "# dt = dt.groupby('Week').apply(lambda x : np.mean(x))"
   ]
  },
  {
   "cell_type": "code",
   "execution_count": 104,
   "metadata": {},
   "outputs": [],
   "source": [
    "# dt.plot(kind = 'line', x = 'Week', y = 'Actual', color = 'red', ax = plt.gca())\n",
    "# dt.plot(kind = 'line', x = 'Week', y = 'Predicted', color = 'green', ax = plt.gca())\n",
    "# plt.xlabel('Week Number')\n",
    "# plt.ylabel('Weekly Sales')\n",
    "# plt.title('Comparison of Predicted and Actual Sales in Decision Tree')\n",
    "# plt.show()"
   ]
  },
  {
   "cell_type": "code",
   "execution_count": 105,
   "metadata": {},
   "outputs": [],
   "source": [
    "# print('Mean Absolute Error:', metrics.mean_absolute_error(train_y, predict_X))\n",
    "# print('Mean Squared Error:', metrics.mean_squared_error(train_y, predict_X))\n",
    "# print('Root Mean Squared Error:', np.sqrt(metrics.mean_squared_error(train_y, predict_X)))"
   ]
  },
  {
   "cell_type": "code",
   "execution_count": 106,
   "metadata": {},
   "outputs": [],
   "source": [
    "# print(\"R-squared for Train:\",svr.score(train_X, train_y))"
   ]
  },
  {
   "cell_type": "markdown",
   "metadata": {},
   "source": [
    "##### Prediction on test data using Support Vector Regression Model"
   ]
  },
  {
   "cell_type": "code",
   "execution_count": 107,
   "metadata": {},
   "outputs": [],
   "source": [
    "# SVR_Pred_Output = pd.read_csv('samplesubmission.csv')\n",
    "# SVR_Pred_Output['Weekly_Sales'] = svr.predict(test_X)\n",
    "# SVR_Pred_Output.to_csv('SVR_Pred_Output.csv')"
   ]
  },
  {
   "cell_type": "markdown",
   "metadata": {},
   "source": [
    "## K-Nearest Neighbor (KNN)"
   ]
  },
  {
   "cell_type": "code",
   "execution_count": 108,
   "metadata": {},
   "outputs": [],
   "source": [
    "from sklearn.neighbors import KNeighborsRegressor"
   ]
  },
  {
   "cell_type": "code",
   "execution_count": 109,
   "metadata": {},
   "outputs": [],
   "source": [
    "KNN = KNeighborsRegressor(n_neighbors = 5)\n",
    "KNN.fit(train_X, train_y)\n",
    "predict_X = KNN.predict(train_X)"
   ]
  },
  {
   "cell_type": "code",
   "execution_count": 110,
   "metadata": {},
   "outputs": [
    {
     "name": "stdout",
     "output_type": "stream",
     "text": [
      "Mean Absolute Error: 7472.819802881133\n",
      "Mean Squared Error: 119931463.64311366\n",
      "Root Mean Squared Error: 10951.322460922866\n"
     ]
    }
   ],
   "source": [
    "print('Mean Absolute Error:', metrics.mean_absolute_error(train_y, predict_X))  \n",
    "print('Mean Squared Error:', metrics.mean_squared_error(train_y, predict_X))  \n",
    "print('Root Mean Squared Error:', np.sqrt(metrics.mean_squared_error(train_y, predict_X)))"
   ]
  },
  {
   "cell_type": "code",
   "execution_count": 111,
   "metadata": {},
   "outputs": [
    {
     "name": "stdout",
     "output_type": "stream",
     "text": [
      "R-squared for Train: 0.5914040258414637\n"
     ]
    }
   ],
   "source": [
    "print(\"R-squared for Train:\",KNN.score(train_X, train_y))"
   ]
  },
  {
   "cell_type": "markdown",
   "metadata": {},
   "source": [
    "### Tuning a KNN Model"
   ]
  },
  {
   "cell_type": "code",
   "execution_count": 112,
   "metadata": {},
   "outputs": [
    {
     "name": "stdout",
     "output_type": "stream",
     "text": [
      "RMSE value for k =  3 is: 10375.628310314461\n",
      "RMSE value for k =  4 is: 10541.496743297494\n",
      "RMSE value for k =  5 is: 10951.322460922866\n",
      "RMSE value for k =  6 is: 11334.299281599866\n",
      "RMSE value for k =  7 is: 11550.703114353333\n",
      "RMSE value for k =  8 is: 11714.61782822258\n",
      "RMSE value for k =  9 is: 11828.799890638958\n",
      "RMSE value for k =  10 is: 11989.640235666484\n"
     ]
    }
   ],
   "source": [
    "rmse_val = []\n",
    "rmse = []\n",
    "for K in range(2, 10):\n",
    "    K = K + 1\n",
    "    model = KNeighborsRegressor(n_neighbors = K)\n",
    "\n",
    "    model.fit(train_X, train_y) \n",
    "    predict_X = model.predict(train_X) \n",
    "    error = np.sqrt(metrics.mean_squared_error(train_y ,predict_X)) \n",
    "    rmse_val.append(error) \n",
    "    print('RMSE value for k = ' , K , 'is:', error)"
   ]
  },
  {
   "cell_type": "code",
   "execution_count": 113,
   "metadata": {},
   "outputs": [
    {
     "data": {
      "text/plain": [
       "10375.628310314461"
      ]
     },
     "execution_count": 113,
     "metadata": {},
     "output_type": "execute_result"
    }
   ],
   "source": [
    "min(rmse_val)"
   ]
  },
  {
   "cell_type": "code",
   "execution_count": 114,
   "metadata": {},
   "outputs": [
    {
     "data": {
      "text/plain": [
       "<matplotlib.axes._subplots.AxesSubplot at 0x18f83fb86c8>"
      ]
     },
     "execution_count": 114,
     "metadata": {},
     "output_type": "execute_result"
    },
    {
     "data": {
      "image/png": "[encoded data removed]",
      "text/plain": [
       "<Figure size 432x288 with 1 Axes>"
      ]
     },
     "metadata": {
      "needs_background": "light"
     },
     "output_type": "display_data"
    }
   ],
   "source": [
    "a = pd.DataFrame(rmse_val) \n",
    "a.plot()"
   ]
  },
  {
   "cell_type": "markdown",
   "metadata": {},
   "source": [
    "### Final KNN Model"
   ]
  },
  {
   "cell_type": "code",
   "execution_count": 124,
   "metadata": {},
   "outputs": [],
   "source": [
    "KNN = KNeighborsRegressor(n_neighbors = 3)\n",
    "KNN.fit(train_X, train_y)\n",
    "predict_X = KNN.predict(train_X)"
   ]
  },
  {
   "cell_type": "code",
   "execution_count": 116,
   "metadata": {},
   "outputs": [
    {
     "data": {
      "text/html": [
       "<div>\n",
       "<style scoped>\n",
       "    .dataframe tbody tr th:only-of-type {\n",
       "        vertical-align: middle;\n",
       "    }\n",
       "\n",
       "    .dataframe tbody tr th {\n",
       "        vertical-align: top;\n",
       "    }\n",
       "\n",
       "    .dataframe thead th {\n",
       "        text-align: right;\n",
       "    }\n",
       "</style>\n",
       "<table border=\"1\" class=\"dataframe\">\n",
       "  <thead>\n",
       "    <tr style=\"text-align: right;\">\n",
       "      <th></th>\n",
       "      <th>Actual</th>\n",
       "      <th>Predicted</th>\n",
       "      <th>Week</th>\n",
       "    </tr>\n",
       "  </thead>\n",
       "  <tbody>\n",
       "    <tr>\n",
       "      <td>0</td>\n",
       "      <td>24924.50</td>\n",
       "      <td>29756.630000</td>\n",
       "      <td>72.0</td>\n",
       "    </tr>\n",
       "    <tr>\n",
       "      <td>1</td>\n",
       "      <td>50605.27</td>\n",
       "      <td>29756.630000</td>\n",
       "      <td>72.0</td>\n",
       "    </tr>\n",
       "    <tr>\n",
       "      <td>2</td>\n",
       "      <td>13740.12</td>\n",
       "      <td>29756.630000</td>\n",
       "      <td>72.0</td>\n",
       "    </tr>\n",
       "    <tr>\n",
       "      <td>3</td>\n",
       "      <td>39954.04</td>\n",
       "      <td>29756.630000</td>\n",
       "      <td>72.0</td>\n",
       "    </tr>\n",
       "    <tr>\n",
       "      <td>4</td>\n",
       "      <td>32229.38</td>\n",
       "      <td>35919.716667</td>\n",
       "      <td>72.0</td>\n",
       "    </tr>\n",
       "  </tbody>\n",
       "</table>\n",
       "</div>"
      ],
      "text/plain": [
       "     Actual     Predicted  Week\n",
       "0  24924.50  29756.630000  72.0\n",
       "1  50605.27  29756.630000  72.0\n",
       "2  13740.12  29756.630000  72.0\n",
       "3  39954.04  29756.630000  72.0\n",
       "4  32229.38  35919.716667  72.0"
      ]
     },
     "execution_count": 116,
     "metadata": {},
     "output_type": "execute_result"
    }
   ],
   "source": [
    "dt = pd.DataFrame({ 'Actual' : train_y, 'Predicted' : predict_X, 'Week' : train.Weeks})\n",
    "dt.head()"
   ]
  },
  {
   "cell_type": "code",
   "execution_count": 117,
   "metadata": {},
   "outputs": [],
   "source": [
    "dt = dt.groupby('Week').apply(lambda x : np.mean(x))"
   ]
  },
  {
   "cell_type": "code",
   "execution_count": 118,
   "metadata": {},
   "outputs": [
    {
     "data": {
      "image/png": "[encoded data removed]",
      "text/plain": [
       "<Figure size 432x288 with 1 Axes>"
      ]
     },
     "metadata": {
      "needs_background": "light"
     },
     "output_type": "display_data"
    }
   ],
   "source": [
    "dt.plot(kind = 'line', x = 'Week', y = 'Actual', color = 'red', ax = plt.gca())\n",
    "dt.plot(kind = 'line', x = 'Week', y = 'Predicted', color = 'green', ax = plt.gca())\n",
    "plt.xlabel('Week Number')\n",
    "plt.ylabel('Weekly Sales')\n",
    "plt.title('Comparison of Predicted and Actual Sales in Decision Tree')\n",
    "plt.show()"
   ]
  },
  {
   "cell_type": "code",
   "execution_count": 119,
   "metadata": {},
   "outputs": [
    {
     "name": "stdout",
     "output_type": "stream",
     "text": [
      "Mean Absolute Error: 7027.410603845941\n",
      "Mean Squared Error: 107653662.83379893\n",
      "Root Mean Squared Error: 10375.628310314461\n"
     ]
    }
   ],
   "source": [
    "print('Mean Absolute Error:', metrics.mean_absolute_error(train_y, predict_X))\n",
    "print('Mean Squared Error:', metrics.mean_squared_error(train_y, predict_X))\n",
    "print('Root Mean Squared Error:', np.sqrt(metrics.mean_squared_error(train_y, predict_X)))"
   ]
  },
  {
   "cell_type": "code",
   "execution_count": 125,
   "metadata": {},
   "outputs": [
    {
     "name": "stdout",
     "output_type": "stream",
     "text": [
      "R-squared for Train: 0.6332334159766058\n"
     ]
    }
   ],
   "source": [
    "print(\"R-squared for Train:\",KNN.score(train_X, train_y))"
   ]
  },
  {
   "cell_type": "markdown",
   "metadata": {},
   "source": [
    "##### Prediction on test data using K-Nearest Neighbor Model"
   ]
  },
  {
   "cell_type": "code",
   "execution_count": 121,
   "metadata": {},
   "outputs": [],
   "source": [
    "KNN_Pred_Output = pd.read_csv('samplesubmission.csv')\n",
    "KNN_Pred_Output['Weekly_Sales'] = KNN.predict(test_X)\n",
    "KNN_Pred_Output.to_csv('KNN_Pred_Output.csv')"
   ]
  }
 ],
 "metadata": {
  "kernelspec": {
   "display_name": "Python 3",
   "language": "python",
   "name": "python3"
  },
  "language_info": {
   "codemirror_mode": {
    "name": "ipython",
    "version": 3
   },
   "file_extension": ".py",
   "mimetype": "text/x-python",
   "name": "python",
   "nbconvert_exporter": "python",
   "pygments_lexer": "ipython3",
   "version": "3.7.4"
  }
 },
 "nbformat": 4,
 "nbformat_minor": 2
}
